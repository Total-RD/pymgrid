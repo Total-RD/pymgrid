{
 "cells": [
  {
   "cell_type": "markdown",
   "metadata": {},
   "source": [
    "# A SARSA algorithm for PymGrid"
   ]
  },
  {
   "cell_type": "markdown",
   "metadata": {},
   "source": [
    "Don't forget to add your own path in sys"
   ]
  },
  {
   "cell_type": "code",
   "execution_count": 1,
   "metadata": {},
   "outputs": [],
   "source": [
    "import sys\n",
    "sys.path.append('C:/Users/Tanguy LEVENT/Documents/Ploutos/Projet_Ploutos/ploutos/')\n",
    "from pymgrid import MicrogridGenerator as mg\n",
    "import matplotlib.pyplot as plt\n",
    "import numpy as np"
   ]
  },
  {
   "cell_type": "markdown",
   "metadata": {},
   "source": [
    "### Generate One Microgrid"
   ]
  },
  {
   "cell_type": "code",
   "execution_count": 2,
   "metadata": {
    "scrolled": true
   },
   "outputs": [
    {
     "data": {
      "text/html": [
       "<div>\n",
       "<style scoped>\n",
       "    .dataframe tbody tr th:only-of-type {\n",
       "        vertical-align: middle;\n",
       "    }\n",
       "\n",
       "    .dataframe tbody tr th {\n",
       "        vertical-align: top;\n",
       "    }\n",
       "\n",
       "    .dataframe thead th {\n",
       "        text-align: right;\n",
       "    }\n",
       "</style>\n",
       "<table border=\"1\" class=\"dataframe\">\n",
       "  <thead>\n",
       "    <tr style=\"text-align: right;\">\n",
       "      <th></th>\n",
       "      <th>load</th>\n",
       "      <th>cost_loss_load</th>\n",
       "      <th>PV_rated_power</th>\n",
       "      <th>battery_soc_0</th>\n",
       "      <th>battery_power_charge</th>\n",
       "      <th>battery_power_discharge</th>\n",
       "      <th>battery_capacity</th>\n",
       "      <th>battery_efficiency</th>\n",
       "      <th>battery_soc_min</th>\n",
       "      <th>battery_soc_max</th>\n",
       "      <th>battery_cost_cycle</th>\n",
       "      <th>grid_power_import</th>\n",
       "      <th>grid_power_export</th>\n",
       "      <th>grid_price_import</th>\n",
       "      <th>grid_price_export</th>\n",
       "    </tr>\n",
       "  </thead>\n",
       "  <tbody>\n",
       "    <tr>\n",
       "      <th>0</th>\n",
       "      <td>7299388</td>\n",
       "      <td>10000</td>\n",
       "      <td>7372381.9</td>\n",
       "      <td>0.2</td>\n",
       "      <td>625</td>\n",
       "      <td>625</td>\n",
       "      <td>2500</td>\n",
       "      <td>0.9</td>\n",
       "      <td>0.2</td>\n",
       "      <td>1</td>\n",
       "      <td>0.3</td>\n",
       "      <td>2836</td>\n",
       "      <td>2836</td>\n",
       "      <td>0.3</td>\n",
       "      <td>0</td>\n",
       "    </tr>\n",
       "  </tbody>\n",
       "</table>\n",
       "</div>"
      ],
      "text/plain": [
       "      load  cost_loss_load  PV_rated_power  battery_soc_0  \\\n",
       "0  7299388           10000       7372381.9            0.2   \n",
       "\n",
       "   battery_power_charge  battery_power_discharge  battery_capacity  \\\n",
       "0                   625                      625              2500   \n",
       "\n",
       "   battery_efficiency  battery_soc_min  battery_soc_max  battery_cost_cycle  \\\n",
       "0                 0.9              0.2                1                 0.3   \n",
       "\n",
       "   grid_power_import  grid_power_export  grid_price_import  grid_price_export  \n",
       "0               2836               2836                0.3                  0  "
      ]
     },
     "metadata": {},
     "output_type": "display_data"
    }
   ],
   "source": [
    "path = sys.path[len(sys.path)-1]\n",
    "env = mg.MicrogridGenerator(path =path,nb_microgrid=1)\n",
    "env.generate_microgrid(verbose = True)"
   ]
  },
  {
   "cell_type": "markdown",
   "metadata": {},
   "source": [
    "Now I print the architecture of the random generated microgrid. I understand that I have an on-grid microgrid with battery"
   ]
  },
  {
   "cell_type": "code",
   "execution_count": 3,
   "metadata": {
    "scrolled": true
   },
   "outputs": [
    {
     "name": "stdout",
     "output_type": "stream",
     "text": [
      "Microgrid 0 architecture: {'PV': 1, 'battery': 1, 'genset': 0, 'grid': 1}\n"
     ]
    }
   ],
   "source": [
    "for i in range(env.nb_microgrids):\n",
    "    \n",
    "    print(\"Microgrid {} architecture: {}\".format(int(i), str(env.microgrids[i].architecture)))"
   ]
  },
  {
   "cell_type": "markdown",
   "metadata": {},
   "source": [
    "I decide to plot my grid status in order to see if sometime the grid can be disconnected to the grid. Here we observe that the microgrid is always connected to the utility grid"
   ]
  },
  {
   "cell_type": "code",
   "execution_count": 4,
   "metadata": {},
   "outputs": [
    {
     "data": {
      "text/plain": [
       "[<matplotlib.lines.Line2D at 0x1c50a81d508>]"
      ]
     },
     "execution_count": 4,
     "metadata": {},
     "output_type": "execute_result"
    },
    {
     "data": {
      "image/png": "[encoded data removed]",
      "text/plain": [
       "<Figure size 432x288 with 1 Axes>"
      ]
     },
     "metadata": {
      "needs_background": "light"
     },
     "output_type": "display_data"
    }
   ],
   "source": [
    "plt.plot(env.microgrids[0].grid_status)"
   ]
  },
  {
   "cell_type": "markdown",
   "metadata": {},
   "source": [
    "Now I decide to call get_infos() method to print all the informations at once "
   ]
  },
  {
   "cell_type": "code",
   "execution_count": 5,
   "metadata": {},
   "outputs": [
    {
     "name": "stdout",
     "output_type": "stream",
     "text": [
      "Microgrid parameters\n"
     ]
    },
    {
     "data": {
      "text/html": [
       "<div>\n",
       "<style scoped>\n",
       "    .dataframe tbody tr th:only-of-type {\n",
       "        vertical-align: middle;\n",
       "    }\n",
       "\n",
       "    .dataframe tbody tr th {\n",
       "        vertical-align: top;\n",
       "    }\n",
       "\n",
       "    .dataframe thead th {\n",
       "        text-align: right;\n",
       "    }\n",
       "</style>\n",
       "<table border=\"1\" class=\"dataframe\">\n",
       "  <thead>\n",
       "    <tr style=\"text-align: right;\">\n",
       "      <th></th>\n",
       "      <th>load</th>\n",
       "      <th>cost_loss_load</th>\n",
       "      <th>PV_rated_power</th>\n",
       "      <th>battery_soc_0</th>\n",
       "      <th>battery_power_charge</th>\n",
       "      <th>battery_power_discharge</th>\n",
       "      <th>battery_capacity</th>\n",
       "      <th>battery_efficiency</th>\n",
       "      <th>battery_soc_min</th>\n",
       "      <th>battery_soc_max</th>\n",
       "      <th>battery_cost_cycle</th>\n",
       "      <th>grid_power_import</th>\n",
       "      <th>grid_power_export</th>\n",
       "      <th>grid_price_import</th>\n",
       "      <th>grid_price_export</th>\n",
       "    </tr>\n",
       "  </thead>\n",
       "  <tbody>\n",
       "    <tr>\n",
       "      <th>0</th>\n",
       "      <td>7299388</td>\n",
       "      <td>10000</td>\n",
       "      <td>7372381.9</td>\n",
       "      <td>0.2</td>\n",
       "      <td>625</td>\n",
       "      <td>625</td>\n",
       "      <td>2500</td>\n",
       "      <td>0.9</td>\n",
       "      <td>0.2</td>\n",
       "      <td>1</td>\n",
       "      <td>0.3</td>\n",
       "      <td>2836</td>\n",
       "      <td>2836</td>\n",
       "      <td>0.3</td>\n",
       "      <td>0</td>\n",
       "    </tr>\n",
       "  </tbody>\n",
       "</table>\n",
       "</div>"
      ],
      "text/plain": [
       "      load  cost_loss_load  PV_rated_power  battery_soc_0  \\\n",
       "0  7299388           10000       7372381.9            0.2   \n",
       "\n",
       "   battery_power_charge  battery_power_discharge  battery_capacity  \\\n",
       "0                   625                      625              2500   \n",
       "\n",
       "   battery_efficiency  battery_soc_min  battery_soc_max  battery_cost_cycle  \\\n",
       "0                 0.9              0.2                1                 0.3   \n",
       "\n",
       "   grid_power_import  grid_power_export  grid_price_import  grid_price_export  \n",
       "0               2836               2836                0.3                  0  "
      ]
     },
     "metadata": {},
     "output_type": "display_data"
    },
    {
     "name": "stdout",
     "output_type": "stream",
     "text": [
      "Architecture:\n",
      "{'PV': 1, 'battery': 1, 'genset': 0, 'grid': 1}\n",
      "Actions: \n",
      "Index(['pv_consummed', 'pv_curtailed', 'battery_charge', 'battery_discharge',\n",
      "       'grid_import', 'grid_export'],\n",
      "      dtype='object')\n",
      "Status: \n",
      "Index(['net_load', 'battery_soc', 'capa_to_charge', 'capa_to_discharge'], dtype='object')\n",
      "Has run mpc baseline:\n",
      "False\n",
      "Has run rule based baseline:\n",
      "False\n"
     ]
    }
   ],
   "source": [
    "env.microgrids[0].get_info()"
   ]
  },
  {
   "cell_type": "code",
   "execution_count": 6,
   "metadata": {},
   "outputs": [
    {
     "name": "stdout",
     "output_type": "stream",
     "text": [
      "Penetration PV : 101.0 %\n"
     ]
    }
   ],
   "source": [
    "print(\"Penetration PV :\", round(7372381.9/7299388*100,2), \"%\")"
   ]
  },
  {
   "cell_type": "markdown",
   "metadata": {},
   "source": [
    "But I can do it seperatly with:"
   ]
  },
  {
   "cell_type": "code",
   "execution_count": 7,
   "metadata": {},
   "outputs": [
    {
     "data": {
      "text/html": [
       "<div>\n",
       "<style scoped>\n",
       "    .dataframe tbody tr th:only-of-type {\n",
       "        vertical-align: middle;\n",
       "    }\n",
       "\n",
       "    .dataframe tbody tr th {\n",
       "        vertical-align: top;\n",
       "    }\n",
       "\n",
       "    .dataframe thead th {\n",
       "        text-align: right;\n",
       "    }\n",
       "</style>\n",
       "<table border=\"1\" class=\"dataframe\">\n",
       "  <thead>\n",
       "    <tr style=\"text-align: right;\">\n",
       "      <th></th>\n",
       "      <th>pv_consummed</th>\n",
       "      <th>pv_curtailed</th>\n",
       "      <th>battery_charge</th>\n",
       "      <th>battery_discharge</th>\n",
       "      <th>grid_import</th>\n",
       "      <th>grid_export</th>\n",
       "    </tr>\n",
       "  </thead>\n",
       "  <tbody>\n",
       "  </tbody>\n",
       "</table>\n",
       "</div>"
      ],
      "text/plain": [
       "Empty DataFrame\n",
       "Columns: [pv_consummed, pv_curtailed, battery_charge, battery_discharge, grid_import, grid_export]\n",
       "Index: []"
      ]
     },
     "execution_count": 7,
     "metadata": {},
     "output_type": "execute_result"
    }
   ],
   "source": [
    "env.microgrids[0].df_actions"
   ]
  },
  {
   "cell_type": "code",
   "execution_count": 8,
   "metadata": {},
   "outputs": [
    {
     "data": {
      "text/html": [
       "<div>\n",
       "<style scoped>\n",
       "    .dataframe tbody tr th:only-of-type {\n",
       "        vertical-align: middle;\n",
       "    }\n",
       "\n",
       "    .dataframe tbody tr th {\n",
       "        vertical-align: top;\n",
       "    }\n",
       "\n",
       "    .dataframe thead th {\n",
       "        text-align: right;\n",
       "    }\n",
       "</style>\n",
       "<table border=\"1\" class=\"dataframe\">\n",
       "  <thead>\n",
       "    <tr style=\"text-align: right;\">\n",
       "      <th></th>\n",
       "      <th>net_load</th>\n",
       "      <th>battery_soc</th>\n",
       "      <th>capa_to_charge</th>\n",
       "      <th>capa_to_discharge</th>\n",
       "    </tr>\n",
       "  </thead>\n",
       "  <tbody>\n",
       "    <tr>\n",
       "      <th>0</th>\n",
       "      <td>618.3</td>\n",
       "      <td>0.2</td>\n",
       "      <td>2222.2</td>\n",
       "      <td>0.0</td>\n",
       "    </tr>\n",
       "  </tbody>\n",
       "</table>\n",
       "</div>"
      ],
      "text/plain": [
       "   net_load  battery_soc  capa_to_charge  capa_to_discharge\n",
       "0     618.3          0.2          2222.2                0.0"
      ]
     },
     "execution_count": 8,
     "metadata": {},
     "output_type": "execute_result"
    }
   ],
   "source": [
    "env.microgrids[0].df_status"
   ]
  },
  {
   "cell_type": "code",
   "execution_count": 9,
   "metadata": {},
   "outputs": [
    {
     "data": {
      "text/plain": [
       "{'state':    net_load  battery_soc  capa_to_charge  capa_to_discharge\n",
       " 0     618.3          0.2          2222.2                0.0,\n",
       " 'pv':            Data\n",
       " 1      0.000000\n",
       " 2      0.000000\n",
       " 3      0.000000\n",
       " 4      0.000000\n",
       " 5      0.000000\n",
       " 6      0.000000\n",
       " 7      0.000000\n",
       " 8    814.548416\n",
       " 9   1772.840669\n",
       " 10  3018.620599\n",
       " 11  2683.218310\n",
       " 12  3545.681338\n",
       " 13  2299.901409\n",
       " 14  1916.584507\n",
       " 15  1868.669895\n",
       " 16   766.633803\n",
       " 17     0.000000\n",
       " 18     0.000000\n",
       " 19     0.000000\n",
       " 20     0.000000\n",
       " 21     0.000000\n",
       " 22     0.000000\n",
       " 23     0.000000\n",
       " 24     0.000000,\n",
       " 'load':            Load\n",
       " 1    412.541149\n",
       " 2    347.120491\n",
       " 3    281.913817\n",
       " 4    281.913817\n",
       " 5    296.250726\n",
       " 6    447.906821\n",
       " 7    447.906821\n",
       " 8   1108.824703\n",
       " 9   1125.768322\n",
       " 10  1125.768322\n",
       " 11   844.282472\n",
       " 12   826.132763\n",
       " 13   826.132763\n",
       " 14   888.888350\n",
       " 15   875.718625\n",
       " 16   875.718625\n",
       " 17   855.662515\n",
       " 18   960.786878\n",
       " 19   960.786878\n",
       " 20  1268.767803\n",
       " 21  1371.596704\n",
       " 22  1371.596704\n",
       " 23   891.261624\n",
       " 24   618.315670,\n",
       " 'parameters':       load  cost_loss_load  PV_rated_power  battery_soc_0  \\\n",
       " 0  7299388           10000       7372381.9            0.2   \n",
       " \n",
       "    battery_power_charge  battery_power_discharge  battery_capacity  \\\n",
       " 0                   625                      625              2500   \n",
       " \n",
       "    battery_efficiency  battery_soc_min  battery_soc_max  battery_cost_cycle  \\\n",
       " 0                 0.9              0.2                1                 0.3   \n",
       " \n",
       "    grid_power_import  grid_power_export  grid_price_import  grid_price_export  \n",
       " 0               2836               2836                0.3                  0  ,\n",
       " 'cost': cost    0.0\n",
       " Name: 0, dtype: float64,\n",
       " 'grid_status': array([[1.],\n",
       "        [1.],\n",
       "        [1.],\n",
       "        [1.],\n",
       "        [1.],\n",
       "        [1.],\n",
       "        [1.],\n",
       "        [1.],\n",
       "        [1.],\n",
       "        [1.],\n",
       "        [1.],\n",
       "        [1.],\n",
       "        [1.],\n",
       "        [1.],\n",
       "        [1.],\n",
       "        [1.],\n",
       "        [1.],\n",
       "        [1.],\n",
       "        [1.],\n",
       "        [1.],\n",
       "        [1.],\n",
       "        [1.],\n",
       "        [1.],\n",
       "        [1.]])}"
      ]
     },
     "execution_count": 9,
     "metadata": {},
     "output_type": "execute_result"
    }
   ],
   "source": [
    "env.microgrids[0].get_state()"
   ]
  },
  {
   "cell_type": "markdown",
   "metadata": {},
   "source": [
    "Plot PV and Load for the next 24 hours"
   ]
  },
  {
   "cell_type": "code",
   "execution_count": 10,
   "metadata": {},
   "outputs": [
    {
     "data": {
      "text/plain": [
       "[<matplotlib.lines.Line2D at 0x1c50a8a5b08>]"
      ]
     },
     "execution_count": 10,
     "metadata": {},
     "output_type": "execute_result"
    },
    {
     "data": {
      "image/png": "[encoded data removed]",
      "text/plain": [
       "<Figure size 432x288 with 1 Axes>"
      ]
     },
     "metadata": {
      "needs_background": "light"
     },
     "output_type": "display_data"
    }
   ],
   "source": [
    "plt.plot(env.microgrids[0].get_state()['pv'])\n",
    "plt.plot(env.microgrids[0].get_state()['load'])\n"
   ]
  },
  {
   "cell_type": "markdown",
   "metadata": {},
   "source": [
    "Plot for 4 days"
   ]
  },
  {
   "cell_type": "code",
   "execution_count": 11,
   "metadata": {},
   "outputs": [
    {
     "data": {
      "text/plain": [
       "[<matplotlib.lines.Line2D at 0x1c50a920ec8>]"
      ]
     },
     "execution_count": 11,
     "metadata": {},
     "output_type": "execute_result"
    },
    {
     "data": {
      "image/png": "[encoded data removed]",
      "text/plain": [
       "<Figure size 432x288 with 1 Axes>"
      ]
     },
     "metadata": {
      "needs_background": "light"
     },
     "output_type": "display_data"
    }
   ],
   "source": [
    "plt.plot(env.microgrids[0].pv.iloc[:100])\n",
    "plt.plot(env.microgrids[0].load.iloc[:100])"
   ]
  },
  {
   "cell_type": "code",
   "execution_count": 44,
   "metadata": {},
   "outputs": [
    {
     "data": {
      "text/plain": [
       "[<matplotlib.lines.Line2D at 0x1c50ce0d6c8>]"
      ]
     },
     "execution_count": 44,
     "metadata": {},
     "output_type": "execute_result"
    },
    {
     "data": {
      "image/png": "[encoded data removed]",
      "text/plain": [
       "<Figure size 432x288 with 1 Axes>"
      ]
     },
     "metadata": {
      "needs_background": "light"
     },
     "output_type": "display_data"
    }
   ],
   "source": [
    "net_load = env.microgrids[0].load.values - env.microgrids[0].pv.values\n",
    "plt.plot(net_load[:100])"
   ]
  },
  {
   "cell_type": "markdown",
   "metadata": {},
   "source": [
    "### Design of the agent"
   ]
  },
  {
   "cell_type": "markdown",
   "metadata": {},
   "source": [
    "First we need to define the different actions our agent will have to take in the microgrid environment. As a result we create a function actions_agent(). The run() fonction is similar to step() of OpenAI Gym, nevertheless run() take a dictionary as an input. So we need to return a dictionary of actions related to df_actions. We don't have to interact with pv_consummed and pv_curtailed because they follow the dynamic of the model. So sake of simplicity we consider that the agent can take only one of the 4 actions defined at the full rate of the net_load."
   ]
  },
  {
   "cell_type": "code",
   "execution_count": 12,
   "metadata": {},
   "outputs": [
    {
     "data": {
      "text/html": [
       "<div>\n",
       "<style scoped>\n",
       "    .dataframe tbody tr th:only-of-type {\n",
       "        vertical-align: middle;\n",
       "    }\n",
       "\n",
       "    .dataframe tbody tr th {\n",
       "        vertical-align: top;\n",
       "    }\n",
       "\n",
       "    .dataframe thead th {\n",
       "        text-align: right;\n",
       "    }\n",
       "</style>\n",
       "<table border=\"1\" class=\"dataframe\">\n",
       "  <thead>\n",
       "    <tr style=\"text-align: right;\">\n",
       "      <th></th>\n",
       "      <th>pv_consummed</th>\n",
       "      <th>pv_curtailed</th>\n",
       "      <th>battery_charge</th>\n",
       "      <th>battery_discharge</th>\n",
       "      <th>grid_import</th>\n",
       "      <th>grid_export</th>\n",
       "    </tr>\n",
       "  </thead>\n",
       "  <tbody>\n",
       "  </tbody>\n",
       "</table>\n",
       "</div>"
      ],
      "text/plain": [
       "Empty DataFrame\n",
       "Columns: [pv_consummed, pv_curtailed, battery_charge, battery_discharge, grid_import, grid_export]\n",
       "Index: []"
      ]
     },
     "execution_count": 12,
     "metadata": {},
     "output_type": "execute_result"
    }
   ],
   "source": [
    "env.microgrids[0].df_actions"
   ]
  },
  {
   "cell_type": "code",
   "execution_count": 13,
   "metadata": {},
   "outputs": [
    {
     "data": {
      "text/html": [
       "<div>\n",
       "<style scoped>\n",
       "    .dataframe tbody tr th:only-of-type {\n",
       "        vertical-align: middle;\n",
       "    }\n",
       "\n",
       "    .dataframe tbody tr th {\n",
       "        vertical-align: top;\n",
       "    }\n",
       "\n",
       "    .dataframe thead th {\n",
       "        text-align: right;\n",
       "    }\n",
       "</style>\n",
       "<table border=\"1\" class=\"dataframe\">\n",
       "  <thead>\n",
       "    <tr style=\"text-align: right;\">\n",
       "      <th></th>\n",
       "      <th>net_load</th>\n",
       "      <th>battery_soc</th>\n",
       "      <th>capa_to_charge</th>\n",
       "      <th>capa_to_discharge</th>\n",
       "    </tr>\n",
       "  </thead>\n",
       "  <tbody>\n",
       "    <tr>\n",
       "      <th>0</th>\n",
       "      <td>618.3</td>\n",
       "      <td>0.2</td>\n",
       "      <td>2222.2</td>\n",
       "      <td>0.0</td>\n",
       "    </tr>\n",
       "  </tbody>\n",
       "</table>\n",
       "</div>"
      ],
      "text/plain": [
       "   net_load  battery_soc  capa_to_charge  capa_to_discharge\n",
       "0     618.3          0.2          2222.2                0.0"
      ]
     },
     "execution_count": 13,
     "metadata": {},
     "output_type": "execute_result"
    }
   ],
   "source": [
    "env.microgrids[0].get_state()['state']"
   ]
  },
  {
   "cell_type": "code",
   "execution_count": 14,
   "metadata": {},
   "outputs": [],
   "source": [
    "def actions_agent(action, load, pv, status, parameters):\n",
    "    \n",
    "    #action 1: genset\n",
    "    #action 1: battery_charge\n",
    "    #action 2: battery_discharge\n",
    "    #action 3: grid_import\n",
    "    #action 4: grid_export\n",
    "    \n",
    "    control_dict= []\n",
    "    \n",
    "    nb_action = 4\n",
    "    \n",
    "    capa_to_charge = max(\n",
    "                        (parameters['battery_soc_max'].values[0] * parameters['battery_capacity'].values[0] -\n",
    "                         status['battery_soc'] *\n",
    "                         parameters['battery_capacity'].values[0]\n",
    "                         ) *parameters['battery_efficiency'].values[0], 0)\n",
    "    capa_to_discharge = max((status['battery_soc'] *\n",
    "                                             parameters['battery_capacity'].values[0]\n",
    "                                             - parameters['battery_soc_min'].values[0] *\n",
    "                                             parameters['battery_capacity'].values[0]\n",
    "                                             ) * parameters['battery_efficiency'].values[0], 0)\n",
    "    # state 0 genset covers what needs to be covered\n",
    "    if action == 0:\n",
    "        control_dict = {'battery_charge': 0,\n",
    "                            'battery_discharge': 0,\n",
    "                            'genset': max(0, load-pv),\n",
    "                            'grid_import': 0,\n",
    "                            'grid_export':0,\n",
    "                            'load_not_matched': 0,\n",
    "                            'pv_consummed': min(pv, load),\n",
    "                            'pv_curtailed':min(load-pv, 0)}\n",
    "    \n",
    "    # state 1 to charge the battery in case of excess PV    \n",
    "    elif action ==1:\n",
    "        control_dict = {'battery_charge': max(0, min(capa_to_charge, parameters['battery_power_charge'].values[0],\n",
    "                                             pv-load)),\n",
    "                            'battery_discharge': 0,\n",
    "                            'genset': max(0, load-pv),\n",
    "                            'grid_import': 0,\n",
    "                            'grid_export':0,\n",
    "                            'load_not_matched': 0,\n",
    "                            'pv_consummed': min(pv, load),\n",
    "                            'pv_curtailed':min(load- max(0, min(capa_to_charge, parameters['battery_power_charge'].values[0],\n",
    "                                             pv-load))-pv, 0)}\n",
    "        \n",
    "    # state 2 discharge the battery, cover the rest with genset\n",
    "    elif action ==2:\n",
    "        control_dict = {'battery_charge': 0,\n",
    "                            'battery_discharge': max(0, min(capa_to_discharge, parameters['battery_power_discharge'].values[0],\n",
    "                                                load-pv)),\n",
    "                            'genset': max(0, load-pv-max(0, min(capa_to_discharge, parameters['battery_power_discharge'].values[0],\n",
    "                                                load-pv))),\n",
    "                            'grid_import': 0,\n",
    "                            'grid_export':0,\n",
    "                            'load_not_matched': 0,\n",
    "                            'pv_consummed': min(pv, load),\n",
    "                            'pv_curtailed':min(load-pv, 0)}\n",
    "        \n",
    "    # do not cover the load \n",
    "    elif action == 3:\n",
    "        control_dict = {'battery_charge': 0,\n",
    "                            'battery_discharge': 0,\n",
    "                            'genset': 0,\n",
    "                            'grid_import': 0,\n",
    "                            'grid_export':0,\n",
    "                            'load_not_matched': load,\n",
    "                            'pv_consummed': 0,\n",
    "                            'pv_curtailed':pv}\n",
    "        \n",
    "    \n",
    "    return control_dict, nb_action\n",
    "    "
   ]
  },
  {
   "cell_type": "markdown",
   "metadata": {},
   "source": [
    "Now I create functions for the SARSA agent.\n",
    "The first one is to initialize my Q table. I need to round the state to reduce the state space."
   ]
  },
  {
   "cell_type": "code",
   "execution_count": 48,
   "metadata": {},
   "outputs": [],
   "source": [
    "def init_qtable(init_way, nb_action,env):\n",
    "    \n",
    "    net_load = env.microgrids[0].load.values - env.microgrids[0].pv.values\n",
    "    \n",
    "    min_state_value = int(round(abs(net_load.min())))\n",
    "    max_state_value = int(round(net_load.max().values[0]))\n",
    "    nb_state = max_state_value + min_state_value\n",
    "    \n",
    "    if init_way == \"ones\":\n",
    "        \n",
    "        Q =  np.ones((nb_state, nb_action))\n",
    "        \n",
    "    elif init_way == \"random\":\n",
    "        \n",
    "        Q = np.random.random((nb_state, nb_action))\n",
    "        \n",
    "    elif init_way == \"zeros\":\n",
    "        \n",
    "        Q = np.zeros((nb_state, nb_action))\n",
    "        \n",
    "    return Q    "
   ]
  },
  {
   "cell_type": "markdown",
   "metadata": {},
   "source": [
    "I define a function for my exploration strategy. Here I've selected the epsilon greedy decreasing strategy"
   ]
  },
  {
   "cell_type": "code",
   "execution_count": 16,
   "metadata": {},
   "outputs": [],
   "source": [
    "def espilon_decreasing_greedy(action, epsilon, nb_action):\n",
    "    \n",
    "    p = np.random.random()\n",
    "\n",
    "    if p < (1 - epsilon):\n",
    "\n",
    "        return action\n",
    "\n",
    "    else: \n",
    "\n",
    "        return np.random.choice(nb_action)"
   ]
  },
  {
   "cell_type": "markdown",
   "metadata": {},
   "source": [
    "I also need to define a function to decrease and update my espilon "
   ]
  },
  {
   "cell_type": "code",
   "execution_count": 17,
   "metadata": {},
   "outputs": [],
   "source": [
    "def update_epsilon(epsilon):\n",
    "    \n",
    "    epsilon = epsilon - epsilon *0.02\n",
    "    \n",
    "    return epsilon"
   ]
  },
  {
   "cell_type": "markdown",
   "metadata": {},
   "source": [
    "Now I define my agent function"
   ]
  },
  {
   "cell_type": "code",
   "execution_count": null,
   "metadata": {},
   "outputs": [],
   "source": [
    "def sarsa_agent(nb_it, Q, env):\n",
    "    \n",
    "    total_reward = 0\n",
    "    env.microgrids[0].reset()\n",
    "    s = env.microgrids[0].get_state()['state']['net_load'].values[0]\n",
    "    a = np.argmax(Q[s, :])\n",
    "    a = espilon_decreasing_greedy(a, epsilon, nb_action)\n",
    "    a = actions_agent()\n",
    "    while not env.microgrids[0].done:\n",
    "        \n",
    "        all_state = run()\n",
    "    "
   ]
  },
  {
   "cell_type": "code",
   "execution_count": 54,
   "metadata": {},
   "outputs": [
    {
     "data": {
      "text/plain": [
       "{'state':    net_load  battery_soc  capa_to_charge  capa_to_discharge\n",
       " 0     618.3          0.2          2222.2                0.0,\n",
       " 'pv':            Data\n",
       " 1      0.000000\n",
       " 2      0.000000\n",
       " 3      0.000000\n",
       " 4      0.000000\n",
       " 5      0.000000\n",
       " 6      0.000000\n",
       " 7      0.000000\n",
       " 8    814.548416\n",
       " 9   1772.840669\n",
       " 10  3018.620599\n",
       " 11  2683.218310\n",
       " 12  3545.681338\n",
       " 13  2299.901409\n",
       " 14  1916.584507\n",
       " 15  1868.669895\n",
       " 16   766.633803\n",
       " 17     0.000000\n",
       " 18     0.000000\n",
       " 19     0.000000\n",
       " 20     0.000000\n",
       " 21     0.000000\n",
       " 22     0.000000\n",
       " 23     0.000000\n",
       " 24     0.000000,\n",
       " 'load':            Load\n",
       " 1    412.541149\n",
       " 2    347.120491\n",
       " 3    281.913817\n",
       " 4    281.913817\n",
       " 5    296.250726\n",
       " 6    447.906821\n",
       " 7    447.906821\n",
       " 8   1108.824703\n",
       " 9   1125.768322\n",
       " 10  1125.768322\n",
       " 11   844.282472\n",
       " 12   826.132763\n",
       " 13   826.132763\n",
       " 14   888.888350\n",
       " 15   875.718625\n",
       " 16   875.718625\n",
       " 17   855.662515\n",
       " 18   960.786878\n",
       " 19   960.786878\n",
       " 20  1268.767803\n",
       " 21  1371.596704\n",
       " 22  1371.596704\n",
       " 23   891.261624\n",
       " 24   618.315670,\n",
       " 'parameters':       load  cost_loss_load  PV_rated_power  battery_soc_0  \\\n",
       " 0  7299388           10000       7372381.9            0.2   \n",
       " \n",
       "    battery_power_charge  battery_power_discharge  battery_capacity  \\\n",
       " 0                   625                      625              2500   \n",
       " \n",
       "    battery_efficiency  battery_soc_min  battery_soc_max  battery_cost_cycle  \\\n",
       " 0                 0.9              0.2                1                 0.3   \n",
       " \n",
       "    grid_power_import  grid_power_export  grid_price_import  grid_price_export  \n",
       " 0               2836               2836                0.3                  0  ,\n",
       " 'cost': cost    0.0\n",
       " Name: 0, dtype: float64,\n",
       " 'grid_status': array([[1.],\n",
       "        [1.],\n",
       "        [1.],\n",
       "        [1.],\n",
       "        [1.],\n",
       "        [1.],\n",
       "        [1.],\n",
       "        [1.],\n",
       "        [1.],\n",
       "        [1.],\n",
       "        [1.],\n",
       "        [1.],\n",
       "        [1.],\n",
       "        [1.],\n",
       "        [1.],\n",
       "        [1.],\n",
       "        [1.],\n",
       "        [1.],\n",
       "        [1.],\n",
       "        [1.],\n",
       "        [1.],\n",
       "        [1.],\n",
       "        [1.],\n",
       "        [1.]])}"
      ]
     },
     "execution_count": 54,
     "metadata": {},
     "output_type": "execute_result"
    }
   ],
   "source": [
    " env.microgrids[0].get_state()"
   ]
  },
  {
   "cell_type": "code",
   "execution_count": 51,
   "metadata": {},
   "outputs": [
    {
     "data": {
      "text/plain": [
       "618.3"
      ]
     },
     "execution_count": 51,
     "metadata": {},
     "output_type": "execute_result"
    }
   ],
   "source": [
    "env.microgrids[0].get_state()['state']['net_load'].values[0]"
   ]
  },
  {
   "cell_type": "code",
   "execution_count": 56,
   "metadata": {},
   "outputs": [],
   "source": [
    "env.microgrids[0].reset()"
   ]
  },
  {
   "cell_type": "code",
   "execution_count": 55,
   "metadata": {},
   "outputs": [
    {
     "data": {
      "text/html": [
       "<div>\n",
       "<style scoped>\n",
       "    .dataframe tbody tr th:only-of-type {\n",
       "        vertical-align: middle;\n",
       "    }\n",
       "\n",
       "    .dataframe tbody tr th {\n",
       "        vertical-align: top;\n",
       "    }\n",
       "\n",
       "    .dataframe thead th {\n",
       "        text-align: right;\n",
       "    }\n",
       "</style>\n",
       "<table border=\"1\" class=\"dataframe\">\n",
       "  <thead>\n",
       "    <tr style=\"text-align: right;\">\n",
       "      <th></th>\n",
       "      <th>load</th>\n",
       "      <th>cost_loss_load</th>\n",
       "      <th>PV_rated_power</th>\n",
       "      <th>battery_soc_0</th>\n",
       "      <th>battery_power_charge</th>\n",
       "      <th>battery_power_discharge</th>\n",
       "      <th>battery_capacity</th>\n",
       "      <th>battery_efficiency</th>\n",
       "      <th>battery_soc_min</th>\n",
       "      <th>battery_soc_max</th>\n",
       "      <th>battery_cost_cycle</th>\n",
       "      <th>grid_power_import</th>\n",
       "      <th>grid_power_export</th>\n",
       "      <th>grid_price_import</th>\n",
       "      <th>grid_price_export</th>\n",
       "    </tr>\n",
       "  </thead>\n",
       "  <tbody>\n",
       "    <tr>\n",
       "      <th>0</th>\n",
       "      <td>7299388</td>\n",
       "      <td>10000</td>\n",
       "      <td>7372381.9</td>\n",
       "      <td>0.2</td>\n",
       "      <td>625</td>\n",
       "      <td>625</td>\n",
       "      <td>2500</td>\n",
       "      <td>0.9</td>\n",
       "      <td>0.2</td>\n",
       "      <td>1</td>\n",
       "      <td>0.3</td>\n",
       "      <td>2836</td>\n",
       "      <td>2836</td>\n",
       "      <td>0.3</td>\n",
       "      <td>0</td>\n",
       "    </tr>\n",
       "  </tbody>\n",
       "</table>\n",
       "</div>"
      ],
      "text/plain": [
       "      load  cost_loss_load  PV_rated_power  battery_soc_0  \\\n",
       "0  7299388           10000       7372381.9            0.2   \n",
       "\n",
       "   battery_power_charge  battery_power_discharge  battery_capacity  \\\n",
       "0                   625                      625              2500   \n",
       "\n",
       "   battery_efficiency  battery_soc_min  battery_soc_max  battery_cost_cycle  \\\n",
       "0                 0.9              0.2                1                 0.3   \n",
       "\n",
       "   grid_power_import  grid_power_export  grid_price_import  grid_price_export  \n",
       "0               2836               2836                0.3                  0  "
      ]
     },
     "execution_count": 55,
     "metadata": {},
     "output_type": "execute_result"
    }
   ],
   "source": [
    "env.microgrids[0].parameters"
   ]
  },
  {
   "cell_type": "code",
   "execution_count": null,
   "metadata": {},
   "outputs": [],
   "source": []
  }
 ],
 "metadata": {
  "kernelspec": {
   "display_name": "Python 3",
   "language": "python",
   "name": "python3"
  },
  "language_info": {
   "codemirror_mode": {
    "name": "ipython",
    "version": 3
   },
   "file_extension": ".py",
   "mimetype": "text/x-python",
   "name": "python",
   "nbconvert_exporter": "python",
   "pygments_lexer": "ipython3",
   "version": "3.7.6"
  }
 },
 "nbformat": 4,
 "nbformat_minor": 4
}
