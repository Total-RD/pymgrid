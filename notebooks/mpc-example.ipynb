{
 "cells": [
  {
   "cell_type": "markdown",
   "id": "c9464f3b",
   "metadata": {},
   "source": [
    "### Model Predictive Control\n",
    "\n",
    "Coming Soon."
   ]
  },
  {
   "cell_type": "code",
   "execution_count": null,
   "id": "25adf05f",
   "metadata": {},
   "outputs": [],
   "source": []
  }
 ],
 "metadata": {
  "kernelspec": {
   "display_name": "Python 3 (ipykernel)",
   "language": "python",
   "name": "python3"
  },
  "language_info": {
   "codemirror_mode": {
    "name": "ipython",
    "version": 3
   },
   "file_extension": ".py",
   "mimetype": "text/x-python",
   "name": "python",
   "nbconvert_exporter": "python",
   "pygments_lexer": "ipython3",
   "version": "3.9.13"
  }
 },
 "nbformat": 4,
 "nbformat_minor": 5
}
