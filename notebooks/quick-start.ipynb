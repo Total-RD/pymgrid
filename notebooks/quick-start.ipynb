{
 "cells": [
  {
   "cell_type": "markdown",
   "id": "6266a327",
   "metadata": {},
   "source": [
    "## Quick Start\n",
    "\n",
    "To get started with *pymgrid*, first [clone or install](../../html/getting_started.html) the package.\n",
    "\n",
    "This notebook shows how to define a simple microgrid, create actions to control it, and read the results. Microgrids can be defined by either defining a set of modules and then passing them to the ``Microgrid`` constructor or by a YAML config file. We detail the first case here."
   ]
  },
  {
   "cell_type": "code",
   "execution_count": 16,
   "id": "6516d304",
   "metadata": {},
   "outputs": [],
   "source": [
    "import numpy as np\n",
    "import pandas as pd\n",
    "\n",
    "np.random.seed(0)\n",
    "\n",
    "from pymgrid import Microgrid\n",
    "from pymgrid.modules import (\n",
    "    BatteryModule,\n",
    "    LoadModule,\n",
    "    RenewableModule,\n",
    "    GridModule)"
   ]
  },
  {
   "cell_type": "markdown",
   "id": "00673154",
   "metadata": {},
   "source": [
    "### Defining a Microgrid"
   ]
  },
  {
   "cell_type": "markdown",
   "id": "d57b8952",
   "metadata": {},
   "source": [
    "We can then define some components of our microgrid. We will define two batteries, one with a capacity of 100 kWh and another with a slower charging rate and lower efficiency but a capacity of 1000 kWh."
   ]
  },
  {
   "cell_type": "code",
   "execution_count": 17,
   "id": "53c9221a",
   "metadata": {},
   "outputs": [],
   "source": [
    "small_battery = BatteryModule(min_capacity=10,\n",
    "                              max_capacity=100,\n",
    "                              max_charge=50,\n",
    "                              max_discharge=50,\n",
    "                              efficiency=0.9,\n",
    "                              init_soc=0.2)\n",
    "\n",
    "large_battery = BatteryModule(min_capacity=10,\n",
    "                              max_capacity=1000,\n",
    "                              max_charge=10,\n",
    "                              max_discharge=10,\n",
    "                              efficiency=0.7,\n",
    "                              init_soc=0.2)"
   ]
  },
  {
   "cell_type": "markdown",
   "id": "f3b248b0",
   "metadata": {},
   "source": [
    "We will also define a load and photovoltaic (pv) module -- the latter representing, say, a solar farm -- with some random data. We will define 90 days worth of data, in hourly increments."
   ]
  },
  {
   "cell_type": "code",
   "execution_count": 18,
   "id": "75d6d6df",
   "metadata": {},
   "outputs": [],
   "source": [
    "load_ts = 100+100*np.random.rand(24*90) # random load data in the range [100, 200].\n",
    "pv_ts = 200*np.random.rand(24*90) # random pv data in the range [0, 200].\n",
    "\n",
    "load = LoadModule(time_series=load_ts)\n",
    "\n",
    "pv = RenewableModule(time_series=pv_ts)"
   ]
  },
  {
   "cell_type": "markdown",
   "id": "c1739938",
   "metadata": {},
   "source": [
    "Finally, we define an external electrical grid to fill any energy gaps. \n",
    "\n",
    "The grid time series must contain three or four columns. The first three denote import price, export price, and carbon dioxide production per kWh. If a fourth column exists, it denotes the grid status (as a bool); if it does not, the grid is assumed to always be up and running."
   ]
  },
  {
   "cell_type": "code",
   "execution_count": 19,
   "id": "2c250ad4",
   "metadata": {},
   "outputs": [],
   "source": [
    "grid_ts = [0.2, 0.1, 0.5] * np.ones((24*90, 3))\n",
    "\n",
    "grid = GridModule(max_import=100,\n",
    "                  max_export=100,\n",
    "                  time_series=grid_ts)"
   ]
  },
  {
   "cell_type": "markdown",
   "id": "2c0c94b0",
   "metadata": {},
   "source": [
    "We can then pass these to the ``Microgrid`` constructor to define a microgrid. Here, we give our renewable module the name \"pv\"."
   ]
  },
  {
   "cell_type": "code",
   "execution_count": 20,
   "id": "3f584c56",
   "metadata": {},
   "outputs": [],
   "source": [
    "modules = [\n",
    "    small_battery, \n",
    "    large_battery,\n",
    "    ('pv', pv),\n",
    "    load,\n",
    "    grid]\n",
    "\n",
    "microgrid = Microgrid(modules)"
   ]
  },
  {
   "cell_type": "markdown",
   "id": "c9b42b83",
   "metadata": {},
   "source": [
    "Printing the microgrid will tell us the modules contained in that microgrid. By default a ``balancing`` module is added to keep track of any unmet demand or excess production. This can be disabled by passing ``unbalanced_energy_module=False``, but is not recommended."
   ]
  },
  {
   "cell_type": "code",
   "execution_count": 21,
   "id": "e893b0a4",
   "metadata": {
    "scrolled": true
   },
   "outputs": [
    {
     "name": "stdout",
     "output_type": "stream",
     "text": [
      "Microgrid([load x 1, pv x 1, balancing x 1, battery x 2, grid x 1])\n"
     ]
    }
   ],
   "source": [
    "print(microgrid)"
   ]
  },
  {
   "cell_type": "markdown",
   "id": "bf68ba4e",
   "metadata": {},
   "source": [
    "We can then access the modules in the microgrid by name or by key:"
   ]
  },
  {
   "cell_type": "code",
   "execution_count": 22,
   "id": "d45899bd",
   "metadata": {},
   "outputs": [
    {
     "name": "stdout",
     "output_type": "stream",
     "text": [
      "[RenewableModule(time_series=<class 'numpy.ndarray'>, raise_errors=False, forecaster=NoForecaster, forecast_horizon=0, forecaster_increase_uncertainty=False, provided_energy_name=renewable_used)]\n"
     ]
    }
   ],
   "source": [
    "print(microgrid.modules.pv)"
   ]
  },
  {
   "cell_type": "code",
   "execution_count": 23,
   "id": "6bcf9b54",
   "metadata": {},
   "outputs": [
    {
     "name": "stdout",
     "output_type": "stream",
     "text": [
      "True\n"
     ]
    }
   ],
   "source": [
    "print(microgrid.modules.grid is microgrid.modules['grid'])"
   ]
  },
  {
   "cell_type": "markdown",
   "id": "e3eb58cd",
   "metadata": {},
   "source": [
    "### Controlling a microgrid\n",
    "\n",
    "You must pass an action for each ``controllable`` module to control the microgrid. The fixed modules are stored in the attribute ``microgrid.controllable``:"
   ]
  },
  {
   "cell_type": "code",
   "execution_count": 38,
   "id": "a360f3dc",
   "metadata": {
    "scrolled": true
   },
   "outputs": [
    {
     "data": {
      "text/plain": [
       "{\n",
       "  \"battery\": \"[BatteryModule(min_capacity=10, max_capacity=100, max_charge=50, max_discharge=50, efficiency=0.9, battery_cost_cycle=0.0, battery_transition_model=None, init_charge=None, init_soc=0.2, raise_errors=False), BatteryModule(min_capacity=10, max_capacity=1000, max_charge=10, max_discharge=10, efficiency=0.7, battery_cost_cycle=0.0, battery_transition_model=None, init_charge=None, init_soc=0.2, raise_errors=False)]\",\n",
       "  \"grid\": \"[GridModule(max_import=100, max_export=100)]\"\n",
       "}"
      ]
     },
     "execution_count": 38,
     "metadata": {},
     "output_type": "execute_result"
    }
   ],
   "source": [
    "microgrid.controllable"
   ]
  },
  {
   "cell_type": "markdown",
   "id": "08cd3053",
   "metadata": {},
   "source": [
    "As we can see, our \"load\", \"battery\", and \"grid\" modules are fixed.\n",
    "\n",
    "We can also view what modules we need to pass an action for by getting an empty action from the microgrid. Here, all ``None`` values must be replaced to pass this action as a control."
   ]
  },
  {
   "cell_type": "code",
   "execution_count": 25,
   "id": "2d94930f",
   "metadata": {
    "scrolled": true
   },
   "outputs": [
    {
     "name": "stdout",
     "output_type": "stream",
     "text": [
      "{'battery': [None, None], 'grid': [None]}\n"
     ]
    }
   ],
   "source": [
    "print(microgrid.get_empty_action())"
   ]
  },
  {
   "cell_type": "markdown",
   "id": "d3337709",
   "metadata": {},
   "source": [
    "We can then simply define a control for these modules. Before doing so, we will reset our microgrid and then check its current state."
   ]
  },
  {
   "cell_type": "code",
   "execution_count": 26,
   "id": "117a7ae8",
   "metadata": {},
   "outputs": [
    {
     "data": {
      "text/html": [
       "<div>\n",
       "<style scoped>\n",
       "    .dataframe tbody tr th:only-of-type {\n",
       "        vertical-align: middle;\n",
       "    }\n",
       "\n",
       "    .dataframe tbody tr th {\n",
       "        vertical-align: top;\n",
       "    }\n",
       "\n",
       "    .dataframe thead th {\n",
       "        text-align: right;\n",
       "    }\n",
       "</style>\n",
       "<table border=\"1\" class=\"dataframe\">\n",
       "  <thead>\n",
       "    <tr style=\"text-align: right;\">\n",
       "      <th></th>\n",
       "      <th></th>\n",
       "      <th></th>\n",
       "      <th>0</th>\n",
       "    </tr>\n",
       "  </thead>\n",
       "  <tbody>\n",
       "    <tr>\n",
       "      <th>load</th>\n",
       "      <th>0</th>\n",
       "      <th>load_current</th>\n",
       "      <td>-154.881350</td>\n",
       "    </tr>\n",
       "    <tr>\n",
       "      <th>pv</th>\n",
       "      <th>0</th>\n",
       "      <th>renewable_current</th>\n",
       "      <td>63.680587</td>\n",
       "    </tr>\n",
       "    <tr>\n",
       "      <th rowspan=\"4\" valign=\"top\">battery</th>\n",
       "      <th rowspan=\"2\" valign=\"top\">0</th>\n",
       "      <th>soc</th>\n",
       "      <td>0.200000</td>\n",
       "    </tr>\n",
       "    <tr>\n",
       "      <th>current_charge</th>\n",
       "      <td>20.000000</td>\n",
       "    </tr>\n",
       "    <tr>\n",
       "      <th rowspan=\"2\" valign=\"top\">1</th>\n",
       "      <th>soc</th>\n",
       "      <td>0.200000</td>\n",
       "    </tr>\n",
       "    <tr>\n",
       "      <th>current_charge</th>\n",
       "      <td>200.000000</td>\n",
       "    </tr>\n",
       "    <tr>\n",
       "      <th rowspan=\"4\" valign=\"top\">grid</th>\n",
       "      <th rowspan=\"4\" valign=\"top\">0</th>\n",
       "      <th>import_price_current</th>\n",
       "      <td>0.200000</td>\n",
       "    </tr>\n",
       "    <tr>\n",
       "      <th>export_price_current</th>\n",
       "      <td>0.100000</td>\n",
       "    </tr>\n",
       "    <tr>\n",
       "      <th>co2_per_kwh_current</th>\n",
       "      <td>0.500000</td>\n",
       "    </tr>\n",
       "    <tr>\n",
       "      <th>grid_status_current</th>\n",
       "      <td>1.000000</td>\n",
       "    </tr>\n",
       "  </tbody>\n",
       "</table>\n",
       "</div>"
      ],
      "text/plain": [
       "                                         0\n",
       "load    0 load_current         -154.881350\n",
       "pv      0 renewable_current      63.680587\n",
       "battery 0 soc                     0.200000\n",
       "          current_charge         20.000000\n",
       "        1 soc                     0.200000\n",
       "          current_charge        200.000000\n",
       "grid    0 import_price_current    0.200000\n",
       "          export_price_current    0.100000\n",
       "          co2_per_kwh_current     0.500000\n",
       "          grid_status_current     1.000000"
      ]
     },
     "execution_count": 26,
     "metadata": {},
     "output_type": "execute_result"
    }
   ],
   "source": [
    "microgrid.reset()\n",
    "microgrid.state_series.to_frame()"
   ]
  },
  {
   "cell_type": "markdown",
   "id": "5b4d2638",
   "metadata": {},
   "source": [
    "We will attempt to meet our load demand of 169.646919 by using our available renewable and then discharging our batteries:"
   ]
  },
  {
   "cell_type": "code",
   "execution_count": 27,
   "id": "c2c64cfa",
   "metadata": {},
   "outputs": [],
   "source": [
    "load = -1.0 * microgrid.modules.load.item().current_load\n",
    "pv = microgrid.modules.pv.item().current_renewable"
   ]
  },
  {
   "cell_type": "code",
   "execution_count": 28,
   "id": "79b1ef8a",
   "metadata": {},
   "outputs": [],
   "source": [
    "net_load = load + pv # negative if load demand exceeds pv\n",
    "\n",
    "if net_load > 0:\n",
    "    net_load = 0.0"
   ]
  },
  {
   "cell_type": "markdown",
   "id": "190fe39c",
   "metadata": {},
   "source": [
    "For our batteries, we will attempt to generate the lower of the excess load and the maximum production."
   ]
  },
  {
   "cell_type": "code",
   "execution_count": 29,
   "id": "8424911a",
   "metadata": {},
   "outputs": [],
   "source": [
    "battery_0_discharge = min(-1*net_load, microgrid.modules.battery[0].max_production)\n",
    "net_load += battery_0_discharge\n",
    "\n",
    "battery_1_discharge = min(-1*net_load, microgrid.modules.battery[1].max_production)\n",
    "net_load += battery_1_discharge"
   ]
  },
  {
   "cell_type": "markdown",
   "id": "90700c09",
   "metadata": {},
   "source": [
    "Finally, we will let our grid clean up the rest -- or as must as it can."
   ]
  },
  {
   "cell_type": "code",
   "execution_count": 30,
   "id": "6aa7b085",
   "metadata": {
    "scrolled": true
   },
   "outputs": [],
   "source": [
    "grid_import = min(-1*net_load, microgrid.modules.grid.item().max_production)"
   ]
  },
  {
   "cell_type": "markdown",
   "id": "027419ac",
   "metadata": {},
   "source": [
    "Putting this together, we have our control. \n",
    "\n",
    "**Note that positive values denote energy moving into the microgrid and negative values denote energy leaving the microgrid.**"
   ]
  },
  {
   "cell_type": "code",
   "execution_count": 31,
   "id": "e2ed2c6f",
   "metadata": {},
   "outputs": [
    {
     "data": {
      "text/plain": [
       "{'load': [-154.8813503927325],\n",
       " 'battery': [9.0, 7.0],\n",
       " 'grid': [75.20076347061497]}"
      ]
     },
     "execution_count": 31,
     "metadata": {},
     "output_type": "execute_result"
    }
   ],
   "source": [
    "control = {\"battery\" : [battery_0_discharge, battery_1_discharge],\n",
    "           \"grid\": [grid_import]}\n",
    "\n",
    "control"
   ]
  },
  {
   "cell_type": "markdown",
   "id": "36681d36",
   "metadata": {},
   "source": [
    "We can then run the microgrid with this control. Since this control is not normalized, we pass ``normalized=False``."
   ]
  },
  {
   "cell_type": "code",
   "execution_count": 32,
   "id": "d2212f7b",
   "metadata": {
    "scrolled": false
   },
   "outputs": [
    {
     "name": "stderr",
     "output_type": "stream",
     "text": [
      "/Users/ahalev/Dropbox/Avishai/gradSchool/internships/totalInternship/pymgrid_git/src/pymgrid/microgrid/microgrid.py:216: UserWarning:\n",
      "\n",
      "\n",
      "Ignoring the following keys in passed control:\n",
      " ['load']\n",
      "\n"
     ]
    }
   ],
   "source": [
    "obs, reward, done, info = microgrid.run(control, normalized=False)"
   ]
  },
  {
   "cell_type": "markdown",
   "id": "df844499",
   "metadata": {},
   "source": [
    "### Analyzing Results\n",
    "\n",
    "After passing a control to the microgrid, we can view the results by viewing the microgrid's -- or any of the modules -- logs. \n",
    "\n",
    "The microgrid's log has one row for each action taken. There are values for both the actions -- e.g. the amount of load met -- as well as the state: for example, the current load. \n",
    "\n",
    "**Note that the state values are the values of the state from *before* the action was taken.**\n",
    "\n",
    "The columns are a ``pd.MultiIndex``, with three levels: module names, module name enumeration (e.g. which number of each module name we are in) and property.\n",
    "\n",
    "For example, since there is one ``load``, all of its log entries will be available under the key ``('load', 0)``. Since there are two batteries, there will be both ``(battery, 0)`` and ``(battery, 1)``."
   ]
  },
  {
   "cell_type": "markdown",
   "id": "c5f570ef",
   "metadata": {},
   "source": [
    "We can see that we met all of our load:"
   ]
  },
  {
   "cell_type": "code",
   "execution_count": 33,
   "id": "26121b4f",
   "metadata": {
    "scrolled": false
   },
   "outputs": [
    {
     "data": {
      "text/html": [
       "<div>\n",
       "<style scoped>\n",
       "    .dataframe tbody tr th:only-of-type {\n",
       "        vertical-align: middle;\n",
       "    }\n",
       "\n",
       "    .dataframe tbody tr th {\n",
       "        vertical-align: top;\n",
       "    }\n",
       "\n",
       "    .dataframe thead tr th {\n",
       "        text-align: left;\n",
       "    }\n",
       "</style>\n",
       "<table border=\"1\" class=\"dataframe\">\n",
       "  <thead>\n",
       "    <tr>\n",
       "      <th>module_name</th>\n",
       "      <th colspan=\"3\" halign=\"left\">load</th>\n",
       "    </tr>\n",
       "    <tr>\n",
       "      <th>module_number</th>\n",
       "      <th colspan=\"3\" halign=\"left\">0</th>\n",
       "    </tr>\n",
       "    <tr>\n",
       "      <th>field</th>\n",
       "      <th>reward</th>\n",
       "      <th>load_met</th>\n",
       "      <th>load_current</th>\n",
       "    </tr>\n",
       "  </thead>\n",
       "  <tbody>\n",
       "    <tr>\n",
       "      <th>0</th>\n",
       "      <td>0.0</td>\n",
       "      <td>154.88135</td>\n",
       "      <td>-154.88135</td>\n",
       "    </tr>\n",
       "  </tbody>\n",
       "</table>\n",
       "</div>"
      ],
      "text/plain": [
       "module_name     load                        \n",
       "module_number      0                        \n",
       "field         reward   load_met load_current\n",
       "0                0.0  154.88135   -154.88135"
      ]
     },
     "execution_count": 33,
     "metadata": {},
     "output_type": "execute_result"
    }
   ],
   "source": [
    "microgrid.log.loc[:, pd.IndexSlice['load', 0, :]]"
   ]
  },
  {
   "cell_type": "markdown",
   "id": "56e7e758",
   "metadata": {},
   "source": [
    "And consumed all available pv, even though we did not define a control for it:"
   ]
  },
  {
   "cell_type": "code",
   "execution_count": 34,
   "id": "71ac1673",
   "metadata": {},
   "outputs": [
    {
     "data": {
      "text/html": [
       "<div>\n",
       "<style scoped>\n",
       "    .dataframe tbody tr th:only-of-type {\n",
       "        vertical-align: middle;\n",
       "    }\n",
       "\n",
       "    .dataframe tbody tr th {\n",
       "        vertical-align: top;\n",
       "    }\n",
       "\n",
       "    .dataframe thead tr th {\n",
       "        text-align: left;\n",
       "    }\n",
       "</style>\n",
       "<table border=\"1\" class=\"dataframe\">\n",
       "  <thead>\n",
       "    <tr>\n",
       "      <th>module_name</th>\n",
       "      <th colspan=\"4\" halign=\"left\">pv</th>\n",
       "    </tr>\n",
       "    <tr>\n",
       "      <th>module_number</th>\n",
       "      <th colspan=\"4\" halign=\"left\">0</th>\n",
       "    </tr>\n",
       "    <tr>\n",
       "      <th>field</th>\n",
       "      <th>reward</th>\n",
       "      <th>curtailment</th>\n",
       "      <th>renewable_used</th>\n",
       "      <th>renewable_current</th>\n",
       "    </tr>\n",
       "  </thead>\n",
       "  <tbody>\n",
       "    <tr>\n",
       "      <th>0</th>\n",
       "      <td>0.0</td>\n",
       "      <td>0.0</td>\n",
       "      <td>63.680587</td>\n",
       "      <td>63.680587</td>\n",
       "    </tr>\n",
       "  </tbody>\n",
       "</table>\n",
       "</div>"
      ],
      "text/plain": [
       "module_name       pv                                             \n",
       "module_number      0                                             \n",
       "field         reward curtailment renewable_used renewable_current\n",
       "0                0.0         0.0      63.680587         63.680587"
      ]
     },
     "execution_count": 34,
     "metadata": {},
     "output_type": "execute_result"
    }
   ],
   "source": [
    "microgrid.log.loc[:, pd.IndexSlice['pv', 0, :]]"
   ]
  },
  {
   "cell_type": "markdown",
   "id": "b0ddf53e",
   "metadata": {},
   "source": [
    "Since we have two batteries, we will have log entries for each of them:"
   ]
  },
  {
   "cell_type": "code",
   "execution_count": 35,
   "id": "7c032938",
   "metadata": {},
   "outputs": [
    {
     "data": {
      "text/html": [
       "<div>\n",
       "<style scoped>\n",
       "    .dataframe tbody tr th:only-of-type {\n",
       "        vertical-align: middle;\n",
       "    }\n",
       "\n",
       "    .dataframe tbody tr th {\n",
       "        vertical-align: top;\n",
       "    }\n",
       "\n",
       "    .dataframe thead tr th {\n",
       "        text-align: left;\n",
       "    }\n",
       "</style>\n",
       "<table border=\"1\" class=\"dataframe\">\n",
       "  <thead>\n",
       "    <tr>\n",
       "      <th>module_number</th>\n",
       "      <th colspan=\"5\" halign=\"left\">0</th>\n",
       "      <th colspan=\"5\" halign=\"left\">1</th>\n",
       "    </tr>\n",
       "    <tr>\n",
       "      <th>field</th>\n",
       "      <th>reward</th>\n",
       "      <th>discharge_amount</th>\n",
       "      <th>charge_amount</th>\n",
       "      <th>soc</th>\n",
       "      <th>current_charge</th>\n",
       "      <th>reward</th>\n",
       "      <th>discharge_amount</th>\n",
       "      <th>charge_amount</th>\n",
       "      <th>soc</th>\n",
       "      <th>current_charge</th>\n",
       "    </tr>\n",
       "  </thead>\n",
       "  <tbody>\n",
       "    <tr>\n",
       "      <th>0</th>\n",
       "      <td>-0.0</td>\n",
       "      <td>9.0</td>\n",
       "      <td>0.0</td>\n",
       "      <td>0.2</td>\n",
       "      <td>20.0</td>\n",
       "      <td>-0.0</td>\n",
       "      <td>7.0</td>\n",
       "      <td>0.0</td>\n",
       "      <td>0.2</td>\n",
       "      <td>200.0</td>\n",
       "    </tr>\n",
       "  </tbody>\n",
       "</table>\n",
       "</div>"
      ],
      "text/plain": [
       "module_number      0                                                     \\\n",
       "field         reward discharge_amount charge_amount  soc current_charge   \n",
       "0               -0.0              9.0           0.0  0.2           20.0   \n",
       "\n",
       "module_number      1                                                     \n",
       "field         reward discharge_amount charge_amount  soc current_charge  \n",
       "0               -0.0              7.0           0.0  0.2          200.0  "
      ]
     },
     "execution_count": 35,
     "metadata": {},
     "output_type": "execute_result"
    }
   ],
   "source": [
    "microgrid.log.loc[:, 'battery']"
   ]
  },
  {
   "cell_type": "markdown",
   "id": "6402dc5c",
   "metadata": {},
   "source": [
    "### Plotting Results\n",
    "\n",
    "We can also utilize pandas plotting functionality to view results. To illustrate this, we will run the microgrid for an additional ten steps with randomly sampled actions."
   ]
  },
  {
   "cell_type": "code",
   "execution_count": 36,
   "id": "298cbc0a",
   "metadata": {
    "scrolled": false
   },
   "outputs": [],
   "source": [
    "for _ in range(10):\n",
    "    microgrid.run(microgrid.sample_action(strict_bound=True))"
   ]
  },
  {
   "cell_type": "markdown",
   "id": "1a5c2a92",
   "metadata": {},
   "source": [
    "Here we will plot the load met, pv consumed and loss load:"
   ]
  },
  {
   "cell_type": "code",
   "execution_count": 37,
   "id": "603c4f14",
   "metadata": {
    "scrolled": false
   },
   "outputs": [
    {
     "ename": "KeyError",
     "evalue": "\"[('load', 0, 'loss_load')] not in index\"",
     "output_type": "error",
     "traceback": [
      "\u001B[0;31m---------------------------------------------------------------------------\u001B[0m",
      "\u001B[0;31mKeyError\u001B[0m                                  Traceback (most recent call last)",
      "\u001B[0;32m/var/folders/wt/_pbr9z6n6mvcmd4b3v8mcgzr0000gp/T/ipykernel_15044/3568916576.py\u001B[0m in \u001B[0;36m<module>\u001B[0;34m\u001B[0m\n\u001B[1;32m      2\u001B[0m                \u001B[0;34m(\u001B[0m\u001B[0;34m'pv'\u001B[0m\u001B[0;34m,\u001B[0m \u001B[0;36m0\u001B[0m\u001B[0;34m,\u001B[0m \u001B[0;34m'renewable_used'\u001B[0m\u001B[0;34m)\u001B[0m\u001B[0;34m,\u001B[0m\u001B[0;34m\u001B[0m\u001B[0;34m\u001B[0m\u001B[0m\n\u001B[1;32m      3\u001B[0m                \u001B[0;34m(\u001B[0m\u001B[0;34m'load'\u001B[0m\u001B[0;34m,\u001B[0m \u001B[0;36m0\u001B[0m\u001B[0;34m,\u001B[0m \u001B[0;34m'loss_load'\u001B[0m\u001B[0;34m)\u001B[0m\u001B[0;34m,\u001B[0m\u001B[0;34m\u001B[0m\u001B[0;34m\u001B[0m\u001B[0m\n\u001B[0;32m----> 4\u001B[0;31m                ('balancing', 0, 'loss_load')]].droplevel(axis=1, level=1).plot()\n\u001B[0m",
      "\u001B[0;32m/opt/anaconda3/envs/pymgrid_env/lib/python3.7/site-packages/pandas/core/frame.py\u001B[0m in \u001B[0;36m__getitem__\u001B[0;34m(self, key)\u001B[0m\n\u001B[1;32m   3462\u001B[0m             \u001B[0;32mif\u001B[0m \u001B[0mis_iterator\u001B[0m\u001B[0;34m(\u001B[0m\u001B[0mkey\u001B[0m\u001B[0;34m)\u001B[0m\u001B[0;34m:\u001B[0m\u001B[0;34m\u001B[0m\u001B[0;34m\u001B[0m\u001B[0m\n\u001B[1;32m   3463\u001B[0m                 \u001B[0mkey\u001B[0m \u001B[0;34m=\u001B[0m \u001B[0mlist\u001B[0m\u001B[0;34m(\u001B[0m\u001B[0mkey\u001B[0m\u001B[0;34m)\u001B[0m\u001B[0;34m\u001B[0m\u001B[0;34m\u001B[0m\u001B[0m\n\u001B[0;32m-> 3464\u001B[0;31m             \u001B[0mindexer\u001B[0m \u001B[0;34m=\u001B[0m \u001B[0mself\u001B[0m\u001B[0;34m.\u001B[0m\u001B[0mloc\u001B[0m\u001B[0;34m.\u001B[0m\u001B[0m_get_listlike_indexer\u001B[0m\u001B[0;34m(\u001B[0m\u001B[0mkey\u001B[0m\u001B[0;34m,\u001B[0m \u001B[0maxis\u001B[0m\u001B[0;34m=\u001B[0m\u001B[0;36m1\u001B[0m\u001B[0;34m)\u001B[0m\u001B[0;34m[\u001B[0m\u001B[0;36m1\u001B[0m\u001B[0;34m]\u001B[0m\u001B[0;34m\u001B[0m\u001B[0;34m\u001B[0m\u001B[0m\n\u001B[0m\u001B[1;32m   3465\u001B[0m \u001B[0;34m\u001B[0m\u001B[0m\n\u001B[1;32m   3466\u001B[0m         \u001B[0;31m# take() does not accept boolean indexers\u001B[0m\u001B[0;34m\u001B[0m\u001B[0;34m\u001B[0m\u001B[0;34m\u001B[0m\u001B[0m\n",
      "\u001B[0;32m/opt/anaconda3/envs/pymgrid_env/lib/python3.7/site-packages/pandas/core/indexing.py\u001B[0m in \u001B[0;36m_get_listlike_indexer\u001B[0;34m(self, key, axis)\u001B[0m\n\u001B[1;32m   1312\u001B[0m             \u001B[0mkeyarr\u001B[0m\u001B[0;34m,\u001B[0m \u001B[0mindexer\u001B[0m\u001B[0;34m,\u001B[0m \u001B[0mnew_indexer\u001B[0m \u001B[0;34m=\u001B[0m \u001B[0max\u001B[0m\u001B[0;34m.\u001B[0m\u001B[0m_reindex_non_unique\u001B[0m\u001B[0;34m(\u001B[0m\u001B[0mkeyarr\u001B[0m\u001B[0;34m)\u001B[0m\u001B[0;34m\u001B[0m\u001B[0;34m\u001B[0m\u001B[0m\n\u001B[1;32m   1313\u001B[0m \u001B[0;34m\u001B[0m\u001B[0m\n\u001B[0;32m-> 1314\u001B[0;31m         \u001B[0mself\u001B[0m\u001B[0;34m.\u001B[0m\u001B[0m_validate_read_indexer\u001B[0m\u001B[0;34m(\u001B[0m\u001B[0mkeyarr\u001B[0m\u001B[0;34m,\u001B[0m \u001B[0mindexer\u001B[0m\u001B[0;34m,\u001B[0m \u001B[0maxis\u001B[0m\u001B[0;34m)\u001B[0m\u001B[0;34m\u001B[0m\u001B[0;34m\u001B[0m\u001B[0m\n\u001B[0m\u001B[1;32m   1315\u001B[0m \u001B[0;34m\u001B[0m\u001B[0m\n\u001B[1;32m   1316\u001B[0m         if needs_i8_conversion(ax.dtype) or isinstance(\n",
      "\u001B[0;32m/opt/anaconda3/envs/pymgrid_env/lib/python3.7/site-packages/pandas/core/indexing.py\u001B[0m in \u001B[0;36m_validate_read_indexer\u001B[0;34m(self, key, indexer, axis)\u001B[0m\n\u001B[1;32m   1375\u001B[0m \u001B[0;34m\u001B[0m\u001B[0m\n\u001B[1;32m   1376\u001B[0m             \u001B[0mnot_found\u001B[0m \u001B[0;34m=\u001B[0m \u001B[0mlist\u001B[0m\u001B[0;34m(\u001B[0m\u001B[0mensure_index\u001B[0m\u001B[0;34m(\u001B[0m\u001B[0mkey\u001B[0m\u001B[0;34m)\u001B[0m\u001B[0;34m[\u001B[0m\u001B[0mmissing_mask\u001B[0m\u001B[0;34m.\u001B[0m\u001B[0mnonzero\u001B[0m\u001B[0;34m(\u001B[0m\u001B[0;34m)\u001B[0m\u001B[0;34m[\u001B[0m\u001B[0;36m0\u001B[0m\u001B[0;34m]\u001B[0m\u001B[0;34m]\u001B[0m\u001B[0;34m.\u001B[0m\u001B[0munique\u001B[0m\u001B[0;34m(\u001B[0m\u001B[0;34m)\u001B[0m\u001B[0;34m)\u001B[0m\u001B[0;34m\u001B[0m\u001B[0;34m\u001B[0m\u001B[0m\n\u001B[0;32m-> 1377\u001B[0;31m             \u001B[0;32mraise\u001B[0m \u001B[0mKeyError\u001B[0m\u001B[0;34m(\u001B[0m\u001B[0;34mf\"{not_found} not in index\"\u001B[0m\u001B[0;34m)\u001B[0m\u001B[0;34m\u001B[0m\u001B[0;34m\u001B[0m\u001B[0m\n\u001B[0m\u001B[1;32m   1378\u001B[0m \u001B[0;34m\u001B[0m\u001B[0m\n\u001B[1;32m   1379\u001B[0m \u001B[0;34m\u001B[0m\u001B[0m\n",
      "\u001B[0;31mKeyError\u001B[0m: \"[('load', 0, 'loss_load')] not in index\""
     ]
    }
   ],
   "source": [
    "microgrid.log[[('load', 0, 'load_met'), \n",
    "               ('pv', 0, 'renewable_used'), \n",
    "               ('load', 0, 'loss_load'),\n",
    "               ('balancing', 0, 'loss_load')]].droplevel(axis=1, level=1).plot()"
   ]
  },
  {
   "cell_type": "code",
   "execution_count": null,
   "id": "46e9b61b",
   "metadata": {},
   "outputs": [],
   "source": []
  }
 ],
 "metadata": {
  "kernelspec": {
   "display_name": "Python 3 (ipykernel)",
   "language": "python",
   "name": "python3"
  },
  "language_info": {
   "codemirror_mode": {
    "name": "ipython",
    "version": 3
   },
   "file_extension": ".py",
   "mimetype": "text/x-python",
   "name": "python",
   "nbconvert_exporter": "python",
   "pygments_lexer": "ipython3",
   "version": "3.7.12"
  }
 },
 "nbformat": 4,
 "nbformat_minor": 5
}