{
 "cells": [
  {
   "cell_type": "markdown",
   "metadata": {},
   "source": [
    "# A Q-Learning implementation for PymGrid"
   ]
  },
  {
   "cell_type": "markdown",
   "metadata": {},
   "source": [
    "Don't forget to add your own path in sys"
   ]
  },
  {
   "cell_type": "code",
   "execution_count": 1,
   "metadata": {},
   "outputs": [],
   "source": [
    "import sys\n",
    "sys.path.append('C:/Users/Tanguy LEVENT/Documents/Ploutos/Projet_Ploutos/pymgrid/')\n",
    "from pymgrid import MicrogridGenerator as mg\n",
    "import matplotlib.pyplot as plt\n",
    "import numpy as np\n",
    "import os\n",
    "import time"
   ]
  },
  {
   "cell_type": "markdown",
   "metadata": {},
   "source": [
    "### Generate Microgrids"
   ]
  },
  {
   "cell_type": "code",
   "execution_count": 2,
   "metadata": {
    "scrolled": true
   },
   "outputs": [
    {
     "data": {
      "text/html": [
       "<div>\n",
       "<style scoped>\n",
       "    .dataframe tbody tr th:only-of-type {\n",
       "        vertical-align: middle;\n",
       "    }\n",
       "\n",
       "    .dataframe tbody tr th {\n",
       "        vertical-align: top;\n",
       "    }\n",
       "\n",
       "    .dataframe thead th {\n",
       "        text-align: right;\n",
       "    }\n",
       "</style>\n",
       "<table border=\"1\" class=\"dataframe\">\n",
       "  <thead>\n",
       "    <tr style=\"text-align: right;\">\n",
       "      <th></th>\n",
       "      <th>load</th>\n",
       "      <th>cost_loss_load</th>\n",
       "      <th>cost_overgeneration</th>\n",
       "      <th>PV_rated_power</th>\n",
       "      <th>battery_soc_0</th>\n",
       "      <th>battery_power_charge</th>\n",
       "      <th>battery_power_discharge</th>\n",
       "      <th>battery_capacity</th>\n",
       "      <th>battery_efficiency</th>\n",
       "      <th>battery_soc_min</th>\n",
       "      <th>battery_soc_max</th>\n",
       "      <th>battery_cost_cycle</th>\n",
       "      <th>grid_power_import</th>\n",
       "      <th>grid_power_export</th>\n",
       "      <th>grid_price_import</th>\n",
       "      <th>grid_price_export</th>\n",
       "    </tr>\n",
       "  </thead>\n",
       "  <tbody>\n",
       "    <tr>\n",
       "      <th>0</th>\n",
       "      <td>7299388</td>\n",
       "      <td>10000</td>\n",
       "      <td>1</td>\n",
       "      <td>7372381.9</td>\n",
       "      <td>0.2</td>\n",
       "      <td>625</td>\n",
       "      <td>625</td>\n",
       "      <td>2500</td>\n",
       "      <td>0.9</td>\n",
       "      <td>0.2</td>\n",
       "      <td>1</td>\n",
       "      <td>0.3</td>\n",
       "      <td>2836</td>\n",
       "      <td>2836</td>\n",
       "      <td>0.3</td>\n",
       "      <td>0</td>\n",
       "    </tr>\n",
       "    <tr>\n",
       "      <th>1</th>\n",
       "      <td>8080212</td>\n",
       "      <td>10000</td>\n",
       "      <td>1</td>\n",
       "      <td>4282512.4</td>\n",
       "      <td>0.2</td>\n",
       "      <td>1153</td>\n",
       "      <td>1153</td>\n",
       "      <td>4612</td>\n",
       "      <td>0.9</td>\n",
       "      <td>0.2</td>\n",
       "      <td>1</td>\n",
       "      <td>0.3</td>\n",
       "      <td>3762</td>\n",
       "      <td>3762</td>\n",
       "      <td>0.3</td>\n",
       "      <td>0</td>\n",
       "    </tr>\n",
       "  </tbody>\n",
       "</table>\n",
       "</div>"
      ],
      "text/plain": [
       "      load  cost_loss_load  cost_overgeneration  PV_rated_power  \\\n",
       "0  7299388           10000                    1       7372381.9   \n",
       "1  8080212           10000                    1       4282512.4   \n",
       "\n",
       "   battery_soc_0  battery_power_charge  battery_power_discharge  \\\n",
       "0            0.2                   625                      625   \n",
       "1            0.2                  1153                     1153   \n",
       "\n",
       "   battery_capacity  battery_efficiency  battery_soc_min  battery_soc_max  \\\n",
       "0              2500                 0.9              0.2                1   \n",
       "1              4612                 0.9              0.2                1   \n",
       "\n",
       "   battery_cost_cycle  grid_power_import  grid_power_export  \\\n",
       "0                 0.3               2836               2836   \n",
       "1                 0.3               3762               3762   \n",
       "\n",
       "   grid_price_import  grid_price_export  \n",
       "0                0.3                  0  \n",
       "1                0.3                  0  "
      ]
     },
     "metadata": {},
     "output_type": "display_data"
    }
   ],
   "source": [
    "path = sys.path[len(sys.path)-1]\n",
    "env = mg.MicrogridGenerator(path =path,nb_microgrid=2)\n",
    "env.generate_microgrid(verbose = True)"
   ]
  },
  {
   "cell_type": "markdown",
   "metadata": {},
   "source": [
    "Now I print the architecture of the random generated microgrid. I understand that I have an on-grid microgrid with battery"
   ]
  },
  {
   "cell_type": "code",
   "execution_count": 3,
   "metadata": {
    "scrolled": true
   },
   "outputs": [
    {
     "name": "stdout",
     "output_type": "stream",
     "text": [
      "Microgrid 0 architecture: {'PV': 1, 'battery': 1, 'genset': 0, 'grid': 1}\n",
      "Microgrid 1 architecture: {'PV': 1, 'battery': 1, 'genset': 0, 'grid': 1}\n"
     ]
    }
   ],
   "source": [
    "for i in range(env.nb_microgrids):\n",
    "    \n",
    "    print(\"Microgrid {} architecture: {}\".format(int(i), str(env.microgrids[i].architecture)))"
   ]
  },
  {
   "cell_type": "markdown",
   "metadata": {},
   "source": [
    "For sake of confort I decide to rename my microgrid\n"
   ]
  },
  {
   "cell_type": "code",
   "execution_count": 4,
   "metadata": {},
   "outputs": [],
   "source": [
    "mg0 = env.microgrids[0]\n",
    "mg1 = env.microgrids[1]"
   ]
  },
  {
   "cell_type": "markdown",
   "metadata": {},
   "source": [
    "I decide to plot my grid status in order to see if sometime the grid can be disconnected to the grid. Here we observe that the microgrid is always connected to the utility grid"
   ]
  },
  {
   "cell_type": "code",
   "execution_count": 5,
   "metadata": {},
   "outputs": [
    {
     "data": {
      "text/plain": [
       "[<matplotlib.lines.Line2D at 0x1e840912d88>]"
      ]
     },
     "execution_count": 5,
     "metadata": {},
     "output_type": "execute_result"
    },
    {
     "data": {
      "image/png": "[encoded data removed]",
      "text/plain": [
       "<Figure size 432x288 with 1 Axes>"
      ]
     },
     "metadata": {
      "needs_background": "light"
     },
     "output_type": "display_data"
    }
   ],
   "source": [
    "plt.plot(mg0.forecast_grid_status())"
   ]
  },
  {
   "cell_type": "markdown",
   "metadata": {},
   "source": [
    "Now I decide to call print_info() method to print all the informations at once "
   ]
  },
  {
   "cell_type": "code",
   "execution_count": 6,
   "metadata": {},
   "outputs": [
    {
     "name": "stdout",
     "output_type": "stream",
     "text": [
      "Microgrid parameters\n"
     ]
    },
    {
     "data": {
      "text/html": [
       "<div>\n",
       "<style scoped>\n",
       "    .dataframe tbody tr th:only-of-type {\n",
       "        vertical-align: middle;\n",
       "    }\n",
       "\n",
       "    .dataframe tbody tr th {\n",
       "        vertical-align: top;\n",
       "    }\n",
       "\n",
       "    .dataframe thead th {\n",
       "        text-align: right;\n",
       "    }\n",
       "</style>\n",
       "<table border=\"1\" class=\"dataframe\">\n",
       "  <thead>\n",
       "    <tr style=\"text-align: right;\">\n",
       "      <th></th>\n",
       "      <th>load</th>\n",
       "      <th>cost_loss_load</th>\n",
       "      <th>cost_overgeneration</th>\n",
       "      <th>PV_rated_power</th>\n",
       "      <th>battery_soc_0</th>\n",
       "      <th>battery_power_charge</th>\n",
       "      <th>battery_power_discharge</th>\n",
       "      <th>battery_capacity</th>\n",
       "      <th>battery_efficiency</th>\n",
       "      <th>battery_soc_min</th>\n",
       "      <th>battery_soc_max</th>\n",
       "      <th>battery_cost_cycle</th>\n",
       "      <th>grid_power_import</th>\n",
       "      <th>grid_power_export</th>\n",
       "      <th>grid_price_import</th>\n",
       "      <th>grid_price_export</th>\n",
       "    </tr>\n",
       "  </thead>\n",
       "  <tbody>\n",
       "    <tr>\n",
       "      <th>0</th>\n",
       "      <td>7299388</td>\n",
       "      <td>10000</td>\n",
       "      <td>1</td>\n",
       "      <td>7372381.9</td>\n",
       "      <td>0.2</td>\n",
       "      <td>625</td>\n",
       "      <td>625</td>\n",
       "      <td>2500</td>\n",
       "      <td>0.9</td>\n",
       "      <td>0.2</td>\n",
       "      <td>1</td>\n",
       "      <td>0.3</td>\n",
       "      <td>2836</td>\n",
       "      <td>2836</td>\n",
       "      <td>0.3</td>\n",
       "      <td>0</td>\n",
       "    </tr>\n",
       "  </tbody>\n",
       "</table>\n",
       "</div>"
      ],
      "text/plain": [
       "      load  cost_loss_load  cost_overgeneration  PV_rated_power  \\\n",
       "0  7299388           10000                    1       7372381.9   \n",
       "\n",
       "   battery_soc_0  battery_power_charge  battery_power_discharge  \\\n",
       "0            0.2                   625                      625   \n",
       "\n",
       "   battery_capacity  battery_efficiency  battery_soc_min  battery_soc_max  \\\n",
       "0              2500                 0.9              0.2                1   \n",
       "\n",
       "   battery_cost_cycle  grid_power_import  grid_power_export  \\\n",
       "0                 0.3               2836               2836   \n",
       "\n",
       "   grid_price_import  grid_price_export  \n",
       "0                0.3                  0  "
      ]
     },
     "metadata": {},
     "output_type": "display_data"
    },
    {
     "name": "stdout",
     "output_type": "stream",
     "text": [
      "Architecture:\n",
      "{'PV': 1, 'battery': 1, 'genset': 0, 'grid': 1}\n",
      "Actions: \n",
      "Index(['pv_consummed', 'battery_charge', 'battery_discharge', 'grid_import',\n",
      "       'grid_export'],\n",
      "      dtype='object')\n",
      "Control dictionnary:\n",
      "['pv_consummed', 'battery_charge', 'battery_discharge', 'grid_import', 'grid_export']\n",
      "Status: \n",
      "Index(['load', 'hour', 'pv', 'battery_soc', 'capa_to_charge',\n",
      "       'capa_to_discharge', 'grid_status'],\n",
      "      dtype='object')\n",
      "Has run mpc baseline:\n",
      "False\n",
      "Has run rule based baseline:\n",
      "False\n"
     ]
    }
   ],
   "source": [
    "mg0.print_info()"
   ]
  },
  {
   "cell_type": "code",
   "execution_count": 7,
   "metadata": {},
   "outputs": [
    {
     "name": "stdout",
     "output_type": "stream",
     "text": [
      "Penetration PV Microgrid 1 : 101.0 %\n",
      "Penetration PV Microgrid 2 : 53.0 %\n"
     ]
    }
   ],
   "source": [
    "print(\"Penetration PV Microgrid 1 :\", round(mg0.parameters[\"PV_rated_power\"][0]/mg0.parameters[\"load\"][0]*100,2), \"%\")\n",
    "print(\"Penetration PV Microgrid 2 :\", round(mg1.parameters[\"PV_rated_power\"][0]/mg1.parameters[\"load\"][0]*100,2), \"%\")"
   ]
  },
  {
   "cell_type": "markdown",
   "metadata": {},
   "source": [
    "What are my state variables? To our case we want to choose the current net_laod (load-pv) and the current battery capacity"
   ]
  },
  {
   "cell_type": "code",
   "execution_count": 8,
   "metadata": {},
   "outputs": [
    {
     "name": "stdout",
     "output_type": "stream",
     "text": [
      "My current net_load is equal to 618.3 kWh and my current battery capacity is 2500\n"
     ]
    }
   ],
   "source": [
    "net_load = mg0.load-mg0.pv\n",
    "print(\"My current net_load is equal to {:0.4} kWh and my current battery capacity is {}\".format(net_load, mg0.battery.capacity))\n"
   ]
  },
  {
   "cell_type": "markdown",
   "metadata": {},
   "source": [
    "Plot PV and Load for the next 24 hours"
   ]
  },
  {
   "cell_type": "code",
   "execution_count": 10,
   "metadata": {},
   "outputs": [
    {
     "data": {
      "text/plain": [
       "[<matplotlib.lines.Line2D at 0x1e8412edc08>]"
      ]
     },
     "execution_count": 10,
     "metadata": {},
     "output_type": "execute_result"
    },
    {
     "data": {
      "image/png": "[encoded data removed]",
      "text/plain": [
       "<Figure size 432x288 with 1 Axes>"
      ]
     },
     "metadata": {
      "needs_background": "light"
     },
     "output_type": "display_data"
    }
   ],
   "source": [
    "plt.plot(mg0.forecast_pv())\n",
    "plt.plot(mg0.forecast_load())\n"
   ]
  },
  {
   "cell_type": "code",
   "execution_count": 11,
   "metadata": {},
   "outputs": [
    {
     "data": {
      "text/plain": [
       "[<matplotlib.lines.Line2D at 0x1e8413549c8>]"
      ]
     },
     "execution_count": 11,
     "metadata": {},
     "output_type": "execute_result"
    },
    {
     "data": {
      "image/png": "[encoded data removed]",
      "text/plain": [
       "<Figure size 432x288 with 1 Axes>"
      ]
     },
     "metadata": {
      "needs_background": "light"
     },
     "output_type": "display_data"
    }
   ],
   "source": [
    "plt.plot(mg1.forecast_pv())\n",
    "plt.plot(mg1.forecast_load())\n"
   ]
  },
  {
   "cell_type": "markdown",
   "metadata": {},
   "source": [
    "Plot for 4 days. I need to change the horizon time. Don't forget to get it back at the right value afterward"
   ]
  },
  {
   "cell_type": "code",
   "execution_count": 12,
   "metadata": {},
   "outputs": [
    {
     "data": {
      "text/plain": [
       "[<matplotlib.lines.Line2D at 0x1e8413caec8>]"
      ]
     },
     "execution_count": 12,
     "metadata": {},
     "output_type": "execute_result"
    },
    {
     "data": {
      "image/png": "[encoded data removed]",
      "text/plain": [
       "<Figure size 432x288 with 1 Axes>"
      ]
     },
     "metadata": {
      "needs_background": "light"
     },
     "output_type": "display_data"
    }
   ],
   "source": [
    "mg0.set_horizon(24*4)\n",
    "plt.plot(mg0.forecast_pv())\n",
    "plt.plot(mg0.forecast_load())"
   ]
  },
  {
   "cell_type": "code",
   "execution_count": 13,
   "metadata": {},
   "outputs": [
    {
     "data": {
      "text/plain": [
       "[<matplotlib.lines.Line2D at 0x1e841358648>]"
      ]
     },
     "execution_count": 13,
     "metadata": {},
     "output_type": "execute_result"
    },
    {
     "data": {
      "image/png": "[encoded data removed]",
      "text/plain": [
       "<Figure size 432x288 with 1 Axes>"
      ]
     },
     "metadata": {
      "needs_background": "light"
     },
     "output_type": "display_data"
    }
   ],
   "source": [
    "mg1.set_horizon(24*4)\n",
    "plt.plot(mg1.forecast_pv())\n",
    "plt.plot(mg1.forecast_load())"
   ]
  },
  {
   "cell_type": "markdown",
   "metadata": {},
   "source": [
    "What is my net_load over 4 days?"
   ]
  },
  {
   "cell_type": "code",
   "execution_count": 14,
   "metadata": {},
   "outputs": [
    {
     "data": {
      "text/plain": [
       "[<matplotlib.lines.Line2D at 0x1e841470288>]"
      ]
     },
     "execution_count": 14,
     "metadata": {},
     "output_type": "execute_result"
    },
    {
     "data": {
      "image/png": "[encoded data removed]",
      "text/plain": [
       "<Figure size 432x288 with 1 Axes>"
      ]
     },
     "metadata": {
      "needs_background": "light"
     },
     "output_type": "display_data"
    }
   ],
   "source": [
    "plt.plot(mg0.forecast_load()-mg0.forecast_pv())\n",
    "plt.plot(mg1.forecast_load()-mg1.forecast_pv())"
   ]
  },
  {
   "cell_type": "markdown",
   "metadata": {},
   "source": [
    "I get back my horizon at 24 steps/hours"
   ]
  },
  {
   "cell_type": "code",
   "execution_count": 15,
   "metadata": {},
   "outputs": [],
   "source": [
    "mg0.set_horizon(24)\n",
    "mg1.set_horizon(24)"
   ]
  },
  {
   "cell_type": "markdown",
   "metadata": {},
   "source": [
    "### Design of the agent"
   ]
  },
  {
   "cell_type": "markdown",
   "metadata": {},
   "source": [
    "First we need to define the different actions our agent will have to take in the microgrid environment. As a result we create a function actions_agent(). The run() fonction is similar to step() of OpenAI Gym, nevertheless run() take a dictionnary as an input. So we need to return a dictionary of actions related to control_dict. So sake of simplicity we consider that the agent can take only one of the 5 actions defined at the full rate of the net_load."
   ]
  },
  {
   "cell_type": "markdown",
   "metadata": {},
   "source": [
    "What action can I take? "
   ]
  },
  {
   "cell_type": "code",
   "execution_count": 16,
   "metadata": {},
   "outputs": [
    {
     "data": {
      "text/plain": [
       "['pv_consummed',\n",
       " 'battery_charge',\n",
       " 'battery_discharge',\n",
       " 'grid_import',\n",
       " 'grid_export']"
      ]
     },
     "execution_count": 16,
     "metadata": {},
     "output_type": "execute_result"
    }
   ],
   "source": [
    "mg0.get_control_dict()"
   ]
  },
  {
   "cell_type": "markdown",
   "metadata": {},
   "source": [
    "First we need to define the different actions our agent will take. Let's set a new fonction call action_agent(). Don't forget to return a dictionnary for the run function"
   ]
  },
  {
   "cell_type": "code",
   "execution_count": 19,
   "metadata": {},
   "outputs": [],
   "source": [
    "#action 0: battery_charge\n",
    "#action 1: battery_discharge\n",
    "#action 2: grid_import\n",
    "#action 3: grid_export\n",
    "\n",
    "def actions_agent(mg0, action):\n",
    " \n",
    "    \n",
    "    pv = mg0.pv\n",
    "    load = mg0.load\n",
    "    \n",
    "    net_load = load - pv\n",
    "    \n",
    "    capa_to_charge = mg0.battery.capa_to_charge\n",
    "    p_charge_max = mg0.battery.p_charge_max\n",
    "    p_charge = max(0,min(-net_load, capa_to_charge, p_charge_max))\n",
    "    \n",
    "    capa_to_discharge = mg0.battery.capa_to_discharge\n",
    "    p_discharge_max = mg0.battery.p_discharge_max\n",
    "    p_discharge = max(0,min(net_load, capa_to_discharge, p_discharge_max))\n",
    "\n",
    "          \n",
    "    if action == 0:\n",
    "        \n",
    "        if p_charge > 0:\n",
    "            \n",
    "        \n",
    "            control_dict = {'pv_consummed': min(pv,load),\n",
    "                            'battery_charge': p_charge,\n",
    "                            'battery_discharge': 0,\n",
    "                            'grid_import': 0,\n",
    "                            'grid_export':max(0,pv - min(pv,load) - p_charge)\n",
    "                           }\n",
    "        else:\n",
    "            \n",
    "            control_dict = {'pv_consummed': min(pv,load),\n",
    "                            'battery_charge': net_load,\n",
    "                            'battery_discharge': 0,\n",
    "                            'grid_import': 0,\n",
    "                            'grid_export':max(0,pv - min(pv,load) - p_charge)\n",
    "                           }\n",
    "\n",
    "            \n",
    "            \n",
    "    #décharger full + export le reste\n",
    "    elif action ==1:\n",
    "        \n",
    "        if p_discharge > 0:\n",
    "        \n",
    "            control_dict = {'pv_consummed': min(pv,load),\n",
    "                            'battery_charge': 0,\n",
    "                            'battery_discharge': p_discharge,\n",
    "                            'grid_import': max(0,load - min(pv,load) - p_discharge),\n",
    "                            'grid_export':0\n",
    "                           }\n",
    "        else:\n",
    "            \n",
    "            control_dict = {'pv_consummed': min(pv,load),\n",
    "                            'battery_charge': 0,\n",
    "                            'battery_discharge': net_load,\n",
    "                            'grid_import': max(0,load - min(pv,load) - p_discharge),\n",
    "                            'grid_export':0\n",
    "                           }\n",
    "\n",
    "        \n",
    "    elif action ==2:\n",
    "        \n",
    "        control_dict = {'pv_consummed': min(pv,load),\n",
    "                        'battery_charge': 0,\n",
    "                        'battery_discharge': 0,\n",
    "                        'grid_import': abs(net_load),\n",
    "                        'grid_export':0\n",
    "                       }\n",
    "        \n",
    "    elif action == 3:\n",
    "        \n",
    "        control_dict = {'pv_consummed': min(pv,load),\n",
    "                        'battery_charge': 0,\n",
    "                        'battery_discharge': 0,\n",
    "                        'grid_import': 0,\n",
    "                        'grid_export':abs(net_load)\n",
    "                       }\n",
    "    \n",
    "    return control_dict"
   ]
  },
  {
   "cell_type": "markdown",
   "metadata": {},
   "source": [
    "Now I create functions for the SARSA agent.\n",
    "The first one is to initialize my Q table. I need to round the state to reduce the state space."
   ]
  },
  {
   "cell_type": "code",
   "execution_count": 20,
   "metadata": {},
   "outputs": [],
   "source": [
    "def init_qtable(mg0, nb_action):\n",
    "    \n",
    "    net_load = mg0.forecast_load() - mg0.forecast_pv()\n",
    "    state = []\n",
    "    Q = {}\n",
    "\n",
    "    for i in range(int(net_load.min()-1),int(net_load.max()+2)):\n",
    "        \n",
    "        for j in np.arange(round(mg0.battery.soc_min,1),round(mg0.battery.soc_max+0.1,1),0.1):\n",
    "            \n",
    "            j = round(j,1)\n",
    "            state.append((i,j)) \n",
    "\n",
    "    #Initialize Q(s,a) at zero\n",
    "    for s in state:\n",
    "\n",
    "        Q[s] = {}\n",
    "\n",
    "        for a in range(nb_action):\n",
    "\n",
    "            Q[s][a] = 0\n",
    "\n",
    "    return Q"
   ]
  },
  {
   "cell_type": "markdown",
   "metadata": {},
   "source": [
    "I define a function for my exploration strategy. Here I've selected the epsilon greedy decreasing strategy"
   ]
  },
  {
   "cell_type": "code",
   "execution_count": 21,
   "metadata": {},
   "outputs": [],
   "source": [
    "def espilon_decreasing_greedy(action, epsilon, nb_action):\n",
    "    \n",
    "    p = np.random.random()\n",
    "\n",
    "    if p < (1 - epsilon):\n",
    "        randomm=0\n",
    "        return action, randomm\n",
    "\n",
    "    else: \n",
    "        randomm=1\n",
    "        return np.random.choice(nb_action), randomm"
   ]
  },
  {
   "cell_type": "code",
   "execution_count": 22,
   "metadata": {},
   "outputs": [],
   "source": [
    "def max_dict(d):\n",
    "\n",
    "    max_key = None\n",
    "    max_val = float('-inf')\n",
    "\n",
    "\n",
    "    for k,v in d.items():\n",
    "\n",
    "        if v > max_val:\n",
    "\n",
    "            max_val = v\n",
    "            max_key = k\n",
    "\n",
    "    return max_key, max_val"
   ]
  },
  {
   "cell_type": "markdown",
   "metadata": {},
   "source": [
    "I also need to define a function to decrease and update my espilon "
   ]
  },
  {
   "cell_type": "code",
   "execution_count": 23,
   "metadata": {},
   "outputs": [],
   "source": [
    "def update_epsilon(epsilon):\n",
    "    \n",
    "    epsilon = epsilon - epsilon *0.02\n",
    "    \n",
    "    if epsilon < 0.1:\n",
    "        \n",
    "        epsilon = 0.1\n",
    "    \n",
    "    return epsilon"
   ]
  },
  {
   "cell_type": "code",
   "execution_count": 24,
   "metadata": {},
   "outputs": [],
   "source": [
    "def change_name_action(idx):\n",
    "    \n",
    "    #action 0: battery_charge\n",
    "    #action 1: battery_discharge\n",
    "    #action 2: grid_import\n",
    "    #action 3: grid_export\n",
    "    \n",
    "    if idx == 0:\n",
    "        \n",
    "        action_name = \"charge\"\n",
    "    elif idx == 1:\n",
    "        action_name = \"discharge\"\n",
    "    elif idx == 2:\n",
    "        \n",
    "        action_name = \"import\"\n",
    "        \n",
    "    else:\n",
    "        \n",
    "        action_name = \"export\"\n",
    "    \n",
    "    return action_name"
   ]
  },
  {
   "cell_type": "code",
   "execution_count": 25,
   "metadata": {},
   "outputs": [],
   "source": [
    "def print_welcome(idx):\n",
    "    \n",
    "    if idx == 0:\n",
    "        print(\"------------------------------------\")\n",
    "        print(\"|        WELCOME TO PYMGRID        |\")\n",
    "        print(\"------------------------------------\")\n",
    "    elif idx == 1:\n",
    "        \n",
    "        print(\"t -     STATE  -  ACTION - COST\")\n",
    "        print(\"================================\")\n",
    "    "
   ]
  },
  {
   "cell_type": "markdown",
   "metadata": {},
   "source": [
    "Now I define my agent function"
   ]
  },
  {
   "cell_type": "code",
   "execution_count": 26,
   "metadata": {
    "scrolled": true
   },
   "outputs": [],
   "source": [
    "def training_Q_Learning(mg,horizon):\n",
    "    \n",
    "    nb_action = 4\n",
    "    Q = init_qtable(mg,nb_action)\n",
    "    nb_state = len(Q)\n",
    "    nb_episode = 100\n",
    "    alpha = 0.1\n",
    "    epsilon = 0.99\n",
    "    gamma = 0.99\n",
    "    \n",
    "    record_cost = []\n",
    "    t0 = time.time()\n",
    "    t = t0\n",
    "    print_training = \"Training Progressing .   \"\n",
    "    print_welcome(0)\n",
    "    print(\"\\n\")\n",
    "    for e in range(nb_episode+1):\n",
    "        \n",
    "        if e == 0:\n",
    "            value_print=\"\\rEpisode \" + str(e) +\"/\" + str(nb_episode)\n",
    "            sys.stdout.write(value_print)\n",
    "            sys.stdout.flush()\n",
    "        \n",
    "        else:\n",
    "            \n",
    "            now = time.time()\n",
    "            \n",
    "            if e == 1 or e == 50 or e == 100 or e == 200 or e == 300 or e == 400  or e == 450  or e == 485 or e == nb_episode-5:\n",
    "                diff_time_t = now - t \n",
    "                total_time = (nb_episode+1) * diff_time_t\n",
    "            \n",
    "            now = time.time()\n",
    "            \n",
    "            diff_time = now - t0\n",
    "            time_remaining = total_time - diff_time\n",
    "            \n",
    "            t = time.time()\n",
    "        \n",
    "        if e % 10 == 0:\n",
    "        \n",
    "            if print_training == \"Training Progressing .   \":\n",
    "                \n",
    "                print_training = \"Training Progressing ..  \"\n",
    "                \n",
    "            elif print_training == \"Training Progressing ..  \":\n",
    "            \n",
    "                print_training = \"Training Progressing ... \"\n",
    "            \n",
    "            else:\n",
    "                \n",
    "                print_training = \"Training Progressing .   \"\n",
    "\n",
    "        value_print=\"\\r\"+ print_training +\"Episode \" + str(e) +\"/\" + str(nb_episode) \n",
    "        sys.stdout.write(value_print)\n",
    "        sys.stdout.flush()\n",
    "            \n",
    "        episode_cost = 0\n",
    "        mg.reset()\n",
    "        \n",
    "        net_load = round(mg.load - mg.pv)\n",
    "        soc = round(mg.battery.soc,1)\n",
    "        s = (net_load, soc)\n",
    "        \n",
    "        a = max_dict(Q[s])[0]\n",
    "        a,randomm = espilon_decreasing_greedy(a, epsilon, nb_action)\n",
    "        \n",
    "        \n",
    "        for i in range (horizon):\n",
    "            \n",
    "            action = actions_agent(mg,a)\n",
    "            status = mg.run(action)\n",
    "            r = -mg.get_cost() - mg.penalty(0.5)\n",
    "            episode_cost += mg.get_cost()\n",
    "            net_load = round(mg.load - mg.pv)\n",
    "            soc = round(mg.battery.soc,1)\n",
    "            s_ = (net_load, soc)\n",
    "            a_ = max_dict(Q[s_])[0]\n",
    "            \n",
    "            if i == horizon-1:\n",
    "                \n",
    "                Q[s][a] += alpha*(r - Q[s][a])\n",
    "      \n",
    "            else:\n",
    "             \n",
    "                old_Q = Q[s][a]\n",
    "                target = r + gamma*Q[s_][a_]\n",
    "                td_error = target - Q[s][a]\n",
    "                Q[s][a] = (1-alpha) * Q[s][a] + alpha * td_error\n",
    "                \n",
    "            s, a = s_, a_\n",
    "       \n",
    "        epsilon = update_epsilon(epsilon)\n",
    "        \n",
    "    return Q"
   ]
  },
  {
   "cell_type": "code",
   "execution_count": 27,
   "metadata": {},
   "outputs": [],
   "source": [
    "def testing_Q_Learning(mg, Q,horizon):\n",
    "    \n",
    "    mg.reset()\n",
    "    net_load = round(mg.load - mg.pv)\n",
    "    soc = round(mg.battery.soc,1)\n",
    "    s = (net_load, soc)\n",
    "    a = max_dict(Q[s])[0]\n",
    "    total_cost = 0\n",
    "    print_welcome(1)\n",
    "    for i in range (horizon):\n",
    "\n",
    "        action_name = change_name_action(a)\n",
    "        action = actions_agent(mg, a)\n",
    "        status = mg.run(action)\n",
    "        cost = mg.get_cost()\n",
    "        total_cost += cost\n",
    "        if i < 10:\n",
    "            print(i,\" -\",(int(net_load),soc),action_name, round(total_cost,1), \"€\")\n",
    "        else:\n",
    "            print(i,\"-\",(int(net_load),soc),action_name, round(total_cost,1), \"€\")\n",
    "        net_load = round(mg.load - mg.pv)\n",
    "        soc = round(mg.battery.soc,1)\n",
    "        s_ = (net_load, soc)\n",
    "        a_ = max_dict(Q[s_])[0]\n",
    "\n",
    "        s, a = s_, a_"
   ]
  },
  {
   "cell_type": "code",
   "execution_count": 29,
   "metadata": {},
   "outputs": [
    {
     "name": "stdout",
     "output_type": "stream",
     "text": [
      "------------------------------------\n",
      "|        WELCOME TO PYMGRID        |\n",
      "------------------------------------\n",
      "\n",
      "\n",
      "Training Progressing ... Episode 100/100"
     ]
    }
   ],
   "source": [
    "Q1 = training_Q_Learning(mg0,48)"
   ]
  },
  {
   "cell_type": "code",
   "execution_count": 30,
   "metadata": {
    "scrolled": false
   },
   "outputs": [
    {
     "name": "stdout",
     "output_type": "stream",
     "text": [
      "t -     STATE  -  ACTION - COST\n",
      "================================\n",
      "0  - (618, 0.2) import 185.5 €\n",
      "1  - (413, 0.2) import 309.3 €\n",
      "2  - (347, 0.2) import 413.4 €\n",
      "3  - (282, 0.2) import 498.0 €\n",
      "4  - (282, 0.2) import 582.5 €\n",
      "5  - (296, 0.2) import 671.4 €\n",
      "6  - (448, 0.2) import 805.8 €\n",
      "7  - (448, 0.2) import 940.2 €\n",
      "8  - (294, 0.2) import 1028.4 €\n",
      "9  - (-647, 0.2) export 1028.4 €\n",
      "10 - (-1893, 0.2) export 1028.4 €\n",
      "11 - (-1839, 0.2) export 1028.4 €\n",
      "12 - (-2720, 0.2) export 1028.4 €\n",
      "13 - (-1474, 0.2) export 1028.4 €\n",
      "14 - (-1028, 0.2) export 1028.4 €\n",
      "15 - (-993, 0.2) export 1028.4 €\n",
      "16 - (109, 0.2) import 1061.2 €\n",
      "17 - (856, 0.2) import 1317.9 €\n",
      "18 - (961, 0.2) import 1606.1 €\n",
      "19 - (961, 0.2) import 1894.3 €\n",
      "20 - (1269, 0.2) import 2275.0 €\n",
      "21 - (1372, 0.2) import 2686.4 €\n",
      "22 - (1372, 0.2) import 3097.9 €\n",
      "23 - (891, 0.2) import 3365.3 €\n",
      "24 - (618, 0.2) import 3550.8 €\n",
      "25 - (413, 0.2) import 3674.6 €\n",
      "26 - (347, 0.2) import 3778.7 €\n",
      "27 - (282, 0.2) import 3863.3 €\n",
      "28 - (282, 0.2) import 3947.8 €\n",
      "29 - (296, 0.2) import 4036.7 €\n",
      "30 - (448, 0.2) import 4171.1 €\n",
      "31 - (448, 0.2) import 4305.5 €\n",
      "32 - (486, 0.2) import 4451.2 €\n",
      "33 - (-1222, 0.2) export 4451.2 €\n",
      "34 - (-1653, 0.2) export 4451.2 €\n",
      "35 - (-2366, 0.2) export 4451.2 €\n",
      "36 - (-2672, 0.2) export 4451.2 €\n",
      "37 - (-2911, 0.2) export 4526.5 €\n",
      "38 - (-1842, 0.2) export 4526.5 €\n",
      "39 - (-1568, 0.2) export 4526.5 €\n",
      "40 - (-705, 0.2) export 4526.5 €\n",
      "41 - (856, 0.2) import 4783.2 €\n",
      "42 - (961, 0.2) import 5071.4 €\n",
      "43 - (961, 0.2) import 5359.6 €\n",
      "44 - (1269, 0.2) import 5740.3 €\n",
      "45 - (1372, 0.2) import 6151.7 €\n",
      "46 - (1372, 0.2) import 6563.2 €\n",
      "47 - (891, 0.2) import 6830.6 €\n"
     ]
    }
   ],
   "source": [
    "testing_Q_Learning(mg0,Q1, 48)"
   ]
  }
 ],
 "metadata": {
  "kernelspec": {
   "display_name": "Python 3",
   "language": "python",
   "name": "python3"
  },
  "language_info": {
   "codemirror_mode": {
    "name": "ipython",
    "version": 3
   },
   "file_extension": ".py",
   "mimetype": "text/x-python",
   "name": "python",
   "nbconvert_exporter": "python",
   "pygments_lexer": "ipython3",
   "version": "3.7.6"
  }
 },
 "nbformat": 4,
 "nbformat_minor": 4
}
